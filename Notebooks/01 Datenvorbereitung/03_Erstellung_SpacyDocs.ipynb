{
 "cells": [
  {
   "cell_type": "markdown",
   "id": "e1b11eed-d7ed-4ddf-9c06-4efd1faea156",
   "metadata": {
    "tags": []
   },
   "source": [
    "# **Spacy Docs erstellen**"
   ]
  },
  {
   "cell_type": "markdown",
   "id": "42e1ed87-102f-4b9a-bfad-8e8f8120533d",
   "metadata": {
    "tags": []
   },
   "source": [
    "### **Preprocessing**"
   ]
  },
  {
   "cell_type": "markdown",
   "id": "53daa5f2-5906-4976-b8eb-88a8d167496b",
   "metadata": {
    "id": "7OugTnRdM047"
   },
   "source": [
    "Daten einlesen"
   ]
  },
  {
   "cell_type": "code",
   "execution_count": 1,
   "id": "c9a75fc3-01ef-4b2f-8226-26bd07a0d015",
   "metadata": {
    "id": "zGUB3mcbN1Qa"
   },
   "outputs": [],
   "source": [
    "import pandas as pd"
   ]
  },
  {
   "cell_type": "code",
   "execution_count": 3,
   "id": "f4c517ce-1d43-4e11-9df5-cefd845c0fd1",
   "metadata": {},
   "outputs": [],
   "source": [
    "df_gesamt = pd.read_excel('./data/df_de.xlsx')"
   ]
  },
  {
   "cell_type": "code",
   "execution_count": 7,
   "id": "67359df3-d501-40b1-8135-f2ff6675afa5",
   "metadata": {},
   "outputs": [],
   "source": [
    "tweets_annotiert = pd.read_excel('./data/tweets_annotiert.xlsx')"
   ]
  },
  {
   "cell_type": "code",
   "execution_count": 8,
   "id": "48b7d2e2-bb12-4b05-8c95-cfaf630c8df6",
   "metadata": {
    "id": "9lQzbc0oM2Jg"
   },
   "outputs": [],
   "source": [
    "tweets_wissenschaft = pd.read_excel('./data/tweets_wissenschaft.xlsx')"
   ]
  },
  {
   "cell_type": "code",
   "execution_count": 9,
   "id": "b6f5adc2-4219-4141-8b2c-435165b9bf61",
   "metadata": {
    "id": "9lQzbc0oM2Jg"
   },
   "outputs": [],
   "source": [
    "tweets_nichtwissenschaft = pd.read_excel('./data/tweets_nichtwissenschaft.xlsx')"
   ]
  },
  {
   "cell_type": "code",
   "execution_count": 10,
   "id": "87612106-dc5a-4871-a7d2-d628c76c1bfd",
   "metadata": {
    "id": "9lQzbc0oM2Jg"
   },
   "outputs": [],
   "source": [
    "tweets_wissenschaftler = pd.read_excel('./data/tweets_wissenschaftler.xlsx')"
   ]
  },
  {
   "cell_type": "code",
   "execution_count": 11,
   "id": "c831e112-c369-4dc1-a27f-7a54ae813519",
   "metadata": {
    "id": "9lQzbc0oM2Jg"
   },
   "outputs": [],
   "source": [
    "tweets_wissenschaftlerinnen = pd.read_excel('./data/tweets_wissenschaftlerinnen.xlsx')"
   ]
  },
  {
   "cell_type": "code",
   "execution_count": 8,
   "id": "c65fb990-407d-424c-ad96-4782b340795a",
   "metadata": {},
   "outputs": [],
   "source": [
    "accounts_annotiert = pd.read_excel('accounts_annotiert.xlsx')"
   ]
  },
  {
   "cell_type": "code",
   "execution_count": 9,
   "id": "c6f4fc07-0107-438d-9951-7fb9468b31ed",
   "metadata": {},
   "outputs": [],
   "source": [
    "accounts_wissenschaft = pd.read_excel('accounts_wissenschaft.xlsx')"
   ]
  },
  {
   "cell_type": "code",
   "execution_count": 10,
   "id": "acc01bd5-835d-49eb-9353-e88cd1a56a1e",
   "metadata": {},
   "outputs": [],
   "source": [
    "accounts_nichtwissenschaft = pd.read_excel('accounts_nichtwissenschaft.xlsx')"
   ]
  },
  {
   "cell_type": "code",
   "execution_count": 11,
   "id": "a355749e-c716-4791-a13b-46d19fe09a13",
   "metadata": {},
   "outputs": [],
   "source": [
    "accounts_wissenschaftler = pd.read_excel('accounts_wissenschaftler.xlsx')"
   ]
  },
  {
   "cell_type": "code",
   "execution_count": 12,
   "id": "ad40c7a3-7cda-4c0d-9202-ec5ddc110923",
   "metadata": {},
   "outputs": [],
   "source": [
    "accounts_wissenschaftlerinnen = pd.read_excel('accounts_wissenschaftlerinnen.xlsx')"
   ]
  },
  {
   "cell_type": "code",
   "execution_count": 4,
   "id": "afaf8023-300c-4561-8c97-dda21b4a58c5",
   "metadata": {},
   "outputs": [],
   "source": [
    "def update_astype_tweets(df):\n",
    "    df['tweet_text'] = df['tweet_text'].astype(str)\n",
    "    df['tweet_text'] = df['tweet_text'].replace('-998', '')\n",
    "    df['retweet_text_retweeted_tweet'] = df['retweet_text_retweeted_tweet'].astype(str)\n",
    "    df['retweet_text_retweeted_tweet'] = df['retweet_text_retweeted_tweet'].replace('-998', '')\n",
    "    df['zitat_text'] = df['zitat_text'].astype(str)\n",
    "    df['zitat_text'] = df['zitat_text'].replace('-998', '')\n",
    "    df['tweet_creator_bio'] = df['tweet_creator_bio'].astype(str)\n",
    "    df['tweet_creator_bio'] = df['tweet_creator_bio'].replace('-998', '')\n",
    "\n",
    "def update_astype_bios(df):\n",
    "    df['tweet_creator_bio'] = df['tweet_creator_bio'].astype(str)\n",
    "    df['tweet_creator_bio'] = df['tweet_creator_bio'].replace('-998', '')\n",
    "    df['tweet_creator_bio'] = df['tweet_creator_bio'].replace('nan', '')\n",
    "    "
   ]
  },
  {
   "cell_type": "code",
   "execution_count": 12,
   "id": "c4385702-40bb-4cdf-a667-e415e63f6a1a",
   "metadata": {},
   "outputs": [],
   "source": [
    "update_astype_tweets(df_gesamt)\n",
    "update_astype_tweets(tweets_annotiert)\n",
    "update_astype_tweets(tweets_wissenschaft)\n",
    "update_astype_tweets(tweets_nichtwissenschaft)\n",
    "update_astype_tweets(tweets_wissenschaftler)\n",
    "update_astype_tweets(tweets_wissenschaftlerinnen)"
   ]
  },
  {
   "cell_type": "code",
   "execution_count": 15,
   "id": "caa29a11-ebac-4aab-98b9-b2c33b9bada0",
   "metadata": {},
   "outputs": [],
   "source": [
    "update_astype_bios(accounts_annotiert)\n",
    "update_astype_bios(accounts_wissenschaft)\n",
    "update_astype_bios(accounts_nichtwissenschaft)\n",
    "update_astype_bios(accounts_wissenschaftler)\n",
    "update_astype_bios(accounts_wissenschaftlerinnen)"
   ]
  },
  {
   "cell_type": "markdown",
   "id": "6e621b7f-c38d-48de-8985-012dd3032a3c",
   "metadata": {},
   "source": [
    "Spacy Docs erstellen"
   ]
  },
  {
   "cell_type": "code",
   "execution_count": 13,
   "id": "2b026aba-1e6e-4c58-a021-ec06fdfed2a3",
   "metadata": {},
   "outputs": [],
   "source": [
    "import nltk\n",
    "import spacy\n",
    "from collections import Counter\n",
    "from tqdm.notebook import tqdm\n",
    "from spacy.tokens import Doc"
   ]
  },
  {
   "cell_type": "code",
   "execution_count": 14,
   "id": "a8ec722f-2b14-4305-879d-d994ad55c392",
   "metadata": {},
   "outputs": [],
   "source": [
    "nlp = spacy.load('de_core_news_sm')"
   ]
  },
  {
   "cell_type": "code",
   "execution_count": 15,
   "id": "9720e905-e81c-4791-914d-58373a89d1f3",
   "metadata": {},
   "outputs": [],
   "source": [
    "def create_spacy_docs_tweets(df, name):\n",
    "    spacy_doc = []\n",
    "    for index, row in tqdm(df.iterrows(), total=df.shape[0]):\n",
    "        # Abarbeitung der Spalte 'tweet_text'\n",
    "        tweet_doc = nlp(row['tweet_text'])\n",
    "        filename_tweet = \"tweet_\" + str(index).replace(\" \", \"\") + \".txt\"\n",
    "        tweet_doc.to_disk(f\"./spacy_docs/{name}/tweets/{filename_tweet}\")\n",
    "        \n",
    "        # Abarbeitung der Spalte 'retweet_text'\n",
    "        retweet_doc = nlp(row['retweet_text_retweeted_tweet'])\n",
    "        filename_retweet = \"retweet_\" + str(index).replace(\" \", \"\") + \".txt\"\n",
    "        retweet_doc.to_disk(f\"./spacy_docs/{name}/retweets/{filename_retweet}\")\n",
    "        \n",
    "        # Abarbeitung der Spalte 'zitat_text'\n",
    "        zitat_doc = nlp(row['zitat_text'])\n",
    "        filename_zitat = \"zitat_\" + str(index).replace(\" \", \"\") + \".txt\"\n",
    "        zitat_doc.to_disk(f\"./spacy_docs/{name}/zitat_tweets/{filename_zitat}\")"
   ]
  },
  {
   "cell_type": "code",
   "execution_count": 19,
   "id": "4d5ed23a-dae2-4873-8606-7bcc4da8da42",
   "metadata": {},
   "outputs": [],
   "source": [
    "def create_spacy_docs_bios(df, name):\n",
    "    spacy_doc = []\n",
    "    for index, row in tqdm(df.iterrows(), total=df.shape[0]):\n",
    "        spacy_doc = nlp(row['tweet_creator_bio'])\n",
    "        filename_tweet = \"bio_\" + str(index).replace(\" \", \"\") + \".txt\"\n",
    "        spacy_doc.to_disk(f\"./spacy_docs/{name}/{filename_tweet}\")"
   ]
  },
  {
   "cell_type": "code",
   "execution_count": 16,
   "id": "a98433f2-1466-460a-897e-cbbfdda66184",
   "metadata": {},
   "outputs": [
    {
     "data": {
      "application/vnd.jupyter.widget-view+json": {
       "model_id": "500196d9996a4ca9ab3cd69d9b382f43",
       "version_major": 2,
       "version_minor": 0
      },
      "text/plain": [
       "  0%|          | 0/81429 [00:00<?, ?it/s]"
      ]
     },
     "metadata": {},
     "output_type": "display_data"
    }
   ],
   "source": [
    "create_spacy_docs_tweets(df_gesamt, 'tweets_gesamt')"
   ]
  },
  {
   "cell_type": "code",
   "execution_count": 20,
   "id": "48a950c9-a208-43a8-9622-2ad3a0186c9f",
   "metadata": {
    "id": "GmltkvPUTJNj"
   },
   "outputs": [
    {
     "data": {
      "application/vnd.jupyter.widget-view+json": {
       "model_id": "d4b1bec278ce49c88ff5baf37e1b3382",
       "version_major": 2,
       "version_minor": 0
      },
      "text/plain": [
       "  0%|          | 0/25714 [00:00<?, ?it/s]"
      ]
     },
     "metadata": {},
     "output_type": "display_data"
    },
    {
     "data": {
      "application/vnd.jupyter.widget-view+json": {
       "model_id": "e9040e82106f41f7974ea81c03e88632",
       "version_major": 2,
       "version_minor": 0
      },
      "text/plain": [
       "  0%|          | 0/3749 [00:00<?, ?it/s]"
      ]
     },
     "metadata": {},
     "output_type": "display_data"
    },
    {
     "data": {
      "application/vnd.jupyter.widget-view+json": {
       "model_id": "387af05e982142afa5899875393347ce",
       "version_major": 2,
       "version_minor": 0
      },
      "text/plain": [
       "  0%|          | 0/21965 [00:00<?, ?it/s]"
      ]
     },
     "metadata": {},
     "output_type": "display_data"
    },
    {
     "data": {
      "application/vnd.jupyter.widget-view+json": {
       "model_id": "5e5a314e3e2c4d80a0815bce8037393c",
       "version_major": 2,
       "version_minor": 0
      },
      "text/plain": [
       "  0%|          | 0/1761 [00:00<?, ?it/s]"
      ]
     },
     "metadata": {},
     "output_type": "display_data"
    },
    {
     "data": {
      "application/vnd.jupyter.widget-view+json": {
       "model_id": "5a18e0c167364405b92dd6cfead69a3a",
       "version_major": 2,
       "version_minor": 0
      },
      "text/plain": [
       "  0%|          | 0/1201 [00:00<?, ?it/s]"
      ]
     },
     "metadata": {},
     "output_type": "display_data"
    }
   ],
   "source": [
    "create_spacy_docs_tweets(tweets_annotiert, 'tweets_annotiert')\n",
    "create_spacy_docs_tweets(tweets_wissenschaft, 'tweets_wissenschaft')\n",
    "create_spacy_docs_tweets(tweets_nichtwissenschaft, 'tweets_nichtwissenschaft')\n",
    "create_spacy_docs_tweets(tweets_wissenschaftler, 'tweets_wissenschaftler')\n",
    "create_spacy_docs_tweets(tweets_wissenschaftlerinnen, 'tweets_wissenschaftlerinnen')"
   ]
  },
  {
   "cell_type": "code",
   "execution_count": 21,
   "id": "1d018ae6-4da6-467b-b358-502987d5953b",
   "metadata": {},
   "outputs": [
    {
     "data": {
      "application/vnd.jupyter.widget-view+json": {
       "model_id": "8c12e477a4a0487189aabb0c58918307",
       "version_major": 2,
       "version_minor": 0
      },
      "text/plain": [
       "  0%|          | 0/10818 [00:00<?, ?it/s]"
      ]
     },
     "metadata": {},
     "output_type": "display_data"
    },
    {
     "data": {
      "application/vnd.jupyter.widget-view+json": {
       "model_id": "130c16701f364364b2c6f7ff42c18ac8",
       "version_major": 2,
       "version_minor": 0
      },
      "text/plain": [
       "  0%|          | 0/1699 [00:00<?, ?it/s]"
      ]
     },
     "metadata": {},
     "output_type": "display_data"
    },
    {
     "data": {
      "application/vnd.jupyter.widget-view+json": {
       "model_id": "8da9c418be46494ca0b15e2602d43948",
       "version_major": 2,
       "version_minor": 0
      },
      "text/plain": [
       "  0%|          | 0/9119 [00:00<?, ?it/s]"
      ]
     },
     "metadata": {},
     "output_type": "display_data"
    },
    {
     "data": {
      "application/vnd.jupyter.widget-view+json": {
       "model_id": "758ef08db4904ad1af2d92dced6a0dff",
       "version_major": 2,
       "version_minor": 0
      },
      "text/plain": [
       "  0%|          | 0/796 [00:00<?, ?it/s]"
      ]
     },
     "metadata": {},
     "output_type": "display_data"
    },
    {
     "data": {
      "application/vnd.jupyter.widget-view+json": {
       "model_id": "d90686fe761f4ef089908f8b671bda57",
       "version_major": 2,
       "version_minor": 0
      },
      "text/plain": [
       "  0%|          | 0/569 [00:00<?, ?it/s]"
      ]
     },
     "metadata": {},
     "output_type": "display_data"
    }
   ],
   "source": [
    "create_spacy_docs_bios(accounts_annotiert, 'bios_annotiert')\n",
    "create_spacy_docs_bios(accounts_wissenschaft, 'bios_wissenschaft')\n",
    "create_spacy_docs_bios(accounts_nichtwissenschaft, 'bios_nichtwissenschaft')\n",
    "create_spacy_docs_bios(accounts_wissenschaftler, 'bios_wissenschaftler')\n",
    "create_spacy_docs_bios(accounts_wissenschaftlerinnen, 'bios_wissenschaftlerinnen')"
   ]
  }
 ],
 "metadata": {
  "kernelspec": {
   "display_name": "Python 3 (ipykernel)",
   "language": "python",
   "name": "python3"
  },
  "language_info": {
   "codemirror_mode": {
    "name": "ipython",
    "version": 3
   },
   "file_extension": ".py",
   "mimetype": "text/x-python",
   "name": "python",
   "nbconvert_exporter": "python",
   "pygments_lexer": "ipython3",
   "version": "3.8.19"
  }
 },
 "nbformat": 4,
 "nbformat_minor": 5
}
