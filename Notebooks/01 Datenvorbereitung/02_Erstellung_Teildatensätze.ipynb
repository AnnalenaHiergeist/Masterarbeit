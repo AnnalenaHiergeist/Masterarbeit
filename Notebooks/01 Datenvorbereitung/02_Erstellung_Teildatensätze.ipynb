{
 "cells": [
  {
   "cell_type": "markdown",
   "id": "0ece81e0-0b8d-43a2-ab67-8c9ac0645967",
   "metadata": {},
   "source": [
    "# Vorbereitung der annotierten Daten und Erstellen der Teildatensätze"
   ]
  },
  {
   "cell_type": "markdown",
   "id": "e7431cd2-843b-44eb-8ba7-bec8b9db40fe",
   "metadata": {
    "tags": []
   },
   "source": [
    "## Daten einlesen"
   ]
  },
  {
   "cell_type": "code",
   "execution_count": 1,
   "id": "91095630-bfa3-4c24-95f1-d556a0573d4e",
   "metadata": {},
   "outputs": [],
   "source": [
    "import pandas as pd"
   ]
  },
  {
   "cell_type": "code",
   "execution_count": 2,
   "id": "bfbc09f7-cc4c-4508-a36b-562d8449fed8",
   "metadata": {},
   "outputs": [],
   "source": [
    "# Gesamtdatensatz\n",
    "df = pd.read_excel(\"df_de.xlsx\")\n",
    "\n",
    "# Annotierte Daten\n",
    "accounts_annotiert = pd.read_excel(\"accounts_annotation_raw.xlsx\")"
   ]
  },
  {
   "cell_type": "code",
   "execution_count": 3,
   "id": "de56ea5a-815e-40c9-ba2d-cbd44fa494be",
   "metadata": {},
   "outputs": [
    {
     "data": {
      "text/html": [
       "<div>\n",
       "<style scoped>\n",
       "    .dataframe tbody tr th:only-of-type {\n",
       "        vertical-align: middle;\n",
       "    }\n",
       "\n",
       "    .dataframe tbody tr th {\n",
       "        vertical-align: top;\n",
       "    }\n",
       "\n",
       "    .dataframe thead th {\n",
       "        text-align: right;\n",
       "    }\n",
       "</style>\n",
       "<table border=\"1\" class=\"dataframe\">\n",
       "  <thead>\n",
       "    <tr style=\"text-align: right;\">\n",
       "      <th></th>\n",
       "      <th>tweet_creator_atName</th>\n",
       "      <th>tweet_creator_screenName</th>\n",
       "      <th>tweet_creator_bio</th>\n",
       "      <th>gender</th>\n",
       "      <th>institution</th>\n",
       "      <th>author_category</th>\n",
       "    </tr>\n",
       "  </thead>\n",
       "  <tbody>\n",
       "    <tr>\n",
       "      <th>0</th>\n",
       "      <td>GreenFire_93D</td>\n",
       "      <td>GreenFire_Dancer</td>\n",
       "      <td>NaN</td>\n",
       "      <td>0</td>\n",
       "      <td>0</td>\n",
       "      <td>0</td>\n",
       "    </tr>\n",
       "    <tr>\n",
       "      <th>1</th>\n",
       "      <td>lisacarstensen5</td>\n",
       "      <td>@lisacarstensen@toot.community</td>\n",
       "      <td>Social Scientist, she/her, Global Political Ec...</td>\n",
       "      <td>2</td>\n",
       "      <td>4</td>\n",
       "      <td>1</td>\n",
       "    </tr>\n",
       "    <tr>\n",
       "      <th>2</th>\n",
       "      <td>Mag2012Ge</td>\n",
       "      <td>maggie🇪🇺 #StandWithUkraine 🇺🇦</td>\n",
       "      <td>#blacklivesmatter #humanrights #animalrights #...</td>\n",
       "      <td>2</td>\n",
       "      <td>4</td>\n",
       "      <td>0</td>\n",
       "    </tr>\n",
       "    <tr>\n",
       "      <th>3</th>\n",
       "      <td>MailanderUlla</td>\n",
       "      <td>Ulla Mailänder</td>\n",
       "      <td>Mutter eines erwachsenen Sohnes mit ME/CFS und...</td>\n",
       "      <td>2</td>\n",
       "      <td>4</td>\n",
       "      <td>0</td>\n",
       "    </tr>\n",
       "    <tr>\n",
       "      <th>4</th>\n",
       "      <td>HannesKopf</td>\n",
       "      <td>Hannes Kopf</td>\n",
       "      <td>NaN</td>\n",
       "      <td>1</td>\n",
       "      <td>4</td>\n",
       "      <td>0</td>\n",
       "    </tr>\n",
       "    <tr>\n",
       "      <th>...</th>\n",
       "      <td>...</td>\n",
       "      <td>...</td>\n",
       "      <td>...</td>\n",
       "      <td>...</td>\n",
       "      <td>...</td>\n",
       "      <td>...</td>\n",
       "    </tr>\n",
       "    <tr>\n",
       "      <th>10997</th>\n",
       "      <td>TanjaAbou</td>\n",
       "      <td>Tanja Abou</td>\n",
       "      <td>Praxisforschung | Soziale Arbeit | #Careleaver...</td>\n",
       "      <td>2</td>\n",
       "      <td>4</td>\n",
       "      <td>2</td>\n",
       "    </tr>\n",
       "    <tr>\n",
       "      <th>10998</th>\n",
       "      <td>Dr_GackGack</td>\n",
       "      <td>Schwurbeldoktor</td>\n",
       "      <td>Mama, Ärztin, Wissenschaftlerin. Gegen Bevormu...</td>\n",
       "      <td>2</td>\n",
       "      <td>4</td>\n",
       "      <td>2</td>\n",
       "    </tr>\n",
       "    <tr>\n",
       "      <th>10999</th>\n",
       "      <td>unrealWLVTR</td>\n",
       "      <td>🇺🇦🇪🇺🇩🇪 WLvTR</td>\n",
       "      <td>„Man kann in wahrer Freiheit leben und doch ni...</td>\n",
       "      <td>2</td>\n",
       "      <td>4</td>\n",
       "      <td>2</td>\n",
       "    </tr>\n",
       "    <tr>\n",
       "      <th>11000</th>\n",
       "      <td>SuzannePeacock9</td>\n",
       "      <td>Zooza Peacock</td>\n",
       "      <td>expert, political scientist, aphorist; license...</td>\n",
       "      <td>2</td>\n",
       "      <td>4</td>\n",
       "      <td>1</td>\n",
       "    </tr>\n",
       "    <tr>\n",
       "      <th>11001</th>\n",
       "      <td>DrManha94072520</td>\n",
       "      <td>Dr.Manhattan</td>\n",
       "      <td>Realize deeply that the present moment is all ...</td>\n",
       "      <td>0</td>\n",
       "      <td>4</td>\n",
       "      <td>2</td>\n",
       "    </tr>\n",
       "  </tbody>\n",
       "</table>\n",
       "<p>11002 rows × 6 columns</p>\n",
       "</div>"
      ],
      "text/plain": [
       "      tweet_creator_atName        tweet_creator_screenName  \\\n",
       "0            GreenFire_93D                GreenFire_Dancer   \n",
       "1          lisacarstensen5  @lisacarstensen@toot.community   \n",
       "2                Mag2012Ge   maggie🇪🇺 #StandWithUkraine 🇺🇦   \n",
       "3            MailanderUlla                  Ulla Mailänder   \n",
       "4               HannesKopf                     Hannes Kopf   \n",
       "...                    ...                             ...   \n",
       "10997            TanjaAbou                      Tanja Abou   \n",
       "10998          Dr_GackGack                 Schwurbeldoktor   \n",
       "10999          unrealWLVTR                    🇺🇦🇪🇺🇩🇪 WLvTR   \n",
       "11000      SuzannePeacock9                   Zooza Peacock   \n",
       "11001      DrManha94072520                    Dr.Manhattan   \n",
       "\n",
       "                                       tweet_creator_bio  gender  institution  \\\n",
       "0                                                    NaN       0            0   \n",
       "1      Social Scientist, she/her, Global Political Ec...       2            4   \n",
       "2      #blacklivesmatter #humanrights #animalrights #...       2            4   \n",
       "3      Mutter eines erwachsenen Sohnes mit ME/CFS und...       2            4   \n",
       "4                                                    NaN       1            4   \n",
       "...                                                  ...     ...          ...   \n",
       "10997  Praxisforschung | Soziale Arbeit | #Careleaver...       2            4   \n",
       "10998  Mama, Ärztin, Wissenschaftlerin. Gegen Bevormu...       2            4   \n",
       "10999  „Man kann in wahrer Freiheit leben und doch ni...       2            4   \n",
       "11000  expert, political scientist, aphorist; license...       2            4   \n",
       "11001  Realize deeply that the present moment is all ...       0            4   \n",
       "\n",
       "       author_category  \n",
       "0                    0  \n",
       "1                    1  \n",
       "2                    0  \n",
       "3                    0  \n",
       "4                    0  \n",
       "...                ...  \n",
       "10997                2  \n",
       "10998                2  \n",
       "10999                2  \n",
       "11000                1  \n",
       "11001                2  \n",
       "\n",
       "[11002 rows x 6 columns]"
      ]
     },
     "execution_count": 3,
     "metadata": {},
     "output_type": "execute_result"
    }
   ],
   "source": [
    "accounts_annotiert"
   ]
  },
  {
   "cell_type": "markdown",
   "id": "71655de4-12bf-4356-a410-667d64f38f23",
   "metadata": {},
   "source": [
    "## Bereinigen der Daten"
   ]
  },
  {
   "cell_type": "code",
   "execution_count": 4,
   "id": "ba8be93a-8ea4-4402-9a3b-c9b9c269fa18",
   "metadata": {},
   "outputs": [
    {
     "data": {
      "text/html": [
       "<div>\n",
       "<style scoped>\n",
       "    .dataframe tbody tr th:only-of-type {\n",
       "        vertical-align: middle;\n",
       "    }\n",
       "\n",
       "    .dataframe tbody tr th {\n",
       "        vertical-align: top;\n",
       "    }\n",
       "\n",
       "    .dataframe thead th {\n",
       "        text-align: right;\n",
       "    }\n",
       "</style>\n",
       "<table border=\"1\" class=\"dataframe\">\n",
       "  <thead>\n",
       "    <tr style=\"text-align: right;\">\n",
       "      <th></th>\n",
       "      <th>tweet_creator_atName</th>\n",
       "      <th>tweet_creator_screenName</th>\n",
       "      <th>tweet_creator_bio</th>\n",
       "      <th>gender</th>\n",
       "      <th>institution</th>\n",
       "      <th>author_category</th>\n",
       "    </tr>\n",
       "  </thead>\n",
       "  <tbody>\n",
       "    <tr>\n",
       "      <th>1431</th>\n",
       "      <td>1789_nana</td>\n",
       "      <td>NANA🎈</td>\n",
       "      <td>FREIHEIT IST PARADIES. TOTALITARISMUS IST HÖLL...</td>\n",
       "      <td>2</td>\n",
       "      <td>4</td>\n",
       "      <td>0</td>\n",
       "    </tr>\n",
       "    <tr>\n",
       "      <th>5681</th>\n",
       "      <td>1789_nana</td>\n",
       "      <td>NAHI🎈</td>\n",
       "      <td>FREIHEIT IST PARADIES. TOTALITARISMUS IST HÖLL...</td>\n",
       "      <td>2</td>\n",
       "      <td>4</td>\n",
       "      <td>0</td>\n",
       "    </tr>\n",
       "    <tr>\n",
       "      <th>8939</th>\n",
       "      <td>1worldvs1virus</td>\n",
       "      <td>Herbert</td>\n",
       "      <td>111 corona🖤 Kinder und 160 768 Corona🖤 sind ei...</td>\n",
       "      <td>1</td>\n",
       "      <td>4</td>\n",
       "      <td>0</td>\n",
       "    </tr>\n",
       "    <tr>\n",
       "      <th>10368</th>\n",
       "      <td>1worldvs1virus</td>\n",
       "      <td>Herbert</td>\n",
       "      <td>111 corona🖤 Kinder und 160 768 Corona🖤 sind ei...</td>\n",
       "      <td>1</td>\n",
       "      <td>4</td>\n",
       "      <td>0</td>\n",
       "    </tr>\n",
       "    <tr>\n",
       "      <th>911</th>\n",
       "      <td>666Ernie</td>\n",
       "      <td>Erwin Schellhorn</td>\n",
       "      <td>Born at 320 ppm #NoMoreEmtyPromises #NoMoreEmt...</td>\n",
       "      <td>1</td>\n",
       "      <td>4</td>\n",
       "      <td>0</td>\n",
       "    </tr>\n",
       "    <tr>\n",
       "      <th>...</th>\n",
       "      <td>...</td>\n",
       "      <td>...</td>\n",
       "      <td>...</td>\n",
       "      <td>...</td>\n",
       "      <td>...</td>\n",
       "      <td>...</td>\n",
       "    </tr>\n",
       "    <tr>\n",
       "      <th>4051</th>\n",
       "      <td>wie_jetzt</td>\n",
       "      <td>Wie jetzt?!</td>\n",
       "      <td>Mal wieder neu starten.</td>\n",
       "      <td>0</td>\n",
       "      <td>0</td>\n",
       "      <td>0</td>\n",
       "    </tr>\n",
       "    <tr>\n",
       "      <th>9378</th>\n",
       "      <td>wie_jetzt</td>\n",
       "      <td>Wie jetzt?!</td>\n",
       "      <td>Mal wieder neu starten.</td>\n",
       "      <td>0</td>\n",
       "      <td>0</td>\n",
       "      <td>0</td>\n",
       "    </tr>\n",
       "    <tr>\n",
       "      <th>7144</th>\n",
       "      <td>yousitonmyspot</td>\n",
       "      <td>InViennaVeritas</td>\n",
       "      <td>citizen journalist #ActuallyAutistic | meteoro...</td>\n",
       "      <td>0</td>\n",
       "      <td>4</td>\n",
       "      <td>0</td>\n",
       "    </tr>\n",
       "    <tr>\n",
       "      <th>4102</th>\n",
       "      <td>yousitonmyspot</td>\n",
       "      <td>InViennaVeritas</td>\n",
       "      <td>citizen journalist #ActuallyAutistic | meteoro...</td>\n",
       "      <td>0</td>\n",
       "      <td>4</td>\n",
       "      <td>2</td>\n",
       "    </tr>\n",
       "    <tr>\n",
       "      <th>9567</th>\n",
       "      <td>yousitonmyspot</td>\n",
       "      <td>InViennaVeritas</td>\n",
       "      <td>citizen journalist #ActuallyAutistic | meteoro...</td>\n",
       "      <td>0</td>\n",
       "      <td>4</td>\n",
       "      <td>0</td>\n",
       "    </tr>\n",
       "  </tbody>\n",
       "</table>\n",
       "<p>355 rows × 6 columns</p>\n",
       "</div>"
      ],
      "text/plain": [
       "      tweet_creator_atName tweet_creator_screenName  \\\n",
       "1431             1789_nana                    NANA🎈   \n",
       "5681             1789_nana                    NAHI🎈   \n",
       "8939        1worldvs1virus                  Herbert   \n",
       "10368       1worldvs1virus                  Herbert   \n",
       "911               666Ernie         Erwin Schellhorn   \n",
       "...                    ...                      ...   \n",
       "4051             wie_jetzt              Wie jetzt?!   \n",
       "9378             wie_jetzt              Wie jetzt?!   \n",
       "7144        yousitonmyspot          InViennaVeritas   \n",
       "4102        yousitonmyspot          InViennaVeritas   \n",
       "9567        yousitonmyspot          InViennaVeritas   \n",
       "\n",
       "                                       tweet_creator_bio  gender  institution  \\\n",
       "1431   FREIHEIT IST PARADIES. TOTALITARISMUS IST HÖLL...       2            4   \n",
       "5681   FREIHEIT IST PARADIES. TOTALITARISMUS IST HÖLL...       2            4   \n",
       "8939   111 corona🖤 Kinder und 160 768 Corona🖤 sind ei...       1            4   \n",
       "10368  111 corona🖤 Kinder und 160 768 Corona🖤 sind ei...       1            4   \n",
       "911    Born at 320 ppm #NoMoreEmtyPromises #NoMoreEmt...       1            4   \n",
       "...                                                  ...     ...          ...   \n",
       "4051                             Mal wieder neu starten.       0            0   \n",
       "9378                             Mal wieder neu starten.       0            0   \n",
       "7144   citizen journalist #ActuallyAutistic | meteoro...       0            4   \n",
       "4102   citizen journalist #ActuallyAutistic | meteoro...       0            4   \n",
       "9567   citizen journalist #ActuallyAutistic | meteoro...       0            4   \n",
       "\n",
       "       author_category  \n",
       "1431                 0  \n",
       "5681                 0  \n",
       "8939                 0  \n",
       "10368                0  \n",
       "911                  0  \n",
       "...                ...  \n",
       "4051                 0  \n",
       "9378                 0  \n",
       "7144                 0  \n",
       "4102                 2  \n",
       "9567                 0  \n",
       "\n",
       "[355 rows x 6 columns]"
      ]
     },
     "execution_count": 4,
     "metadata": {},
     "output_type": "execute_result"
    }
   ],
   "source": [
    "doppelte_accounts = accounts_annotiert[accounts_annotiert.duplicated(subset='tweet_creator_atName', keep=False)]\n",
    "doppelte_accounts = doppelte_accounts.sort_values(by='tweet_creator_atName')\n",
    "doppelte_accounts"
   ]
  },
  {
   "cell_type": "code",
   "execution_count": 5,
   "id": "819f292b-85c0-4ca1-8ef7-101c689578a0",
   "metadata": {},
   "outputs": [],
   "source": [
    "accounts_annotiert = accounts_annotiert.drop_duplicates(subset='tweet_creator_atName')"
   ]
  },
  {
   "cell_type": "code",
   "execution_count": 6,
   "id": "2c030123-b902-4400-98ca-1b4557d4e5a2",
   "metadata": {},
   "outputs": [
    {
     "data": {
      "text/plain": [
       "(10818, 6)"
      ]
     },
     "execution_count": 6,
     "metadata": {},
     "output_type": "execute_result"
    }
   ],
   "source": [
    "accounts_annotiert.shape"
   ]
  },
  {
   "cell_type": "markdown",
   "id": "1eb36ca7-de9b-4c34-93c7-f7cd1c806819",
   "metadata": {},
   "source": [
    "#### Zahlenwerte ersetzen"
   ]
  },
  {
   "cell_type": "code",
   "execution_count": 7,
   "id": "1a5a030d-fc1f-4688-8f05-ae88d6ba86cf",
   "metadata": {
    "tags": []
   },
   "outputs": [],
   "source": [
    "accounts_annotiert.loc[:, 'gender'] = accounts_annotiert['gender'].replace({0: 'unklar', 1: 'männlich', 2: 'weiblich', 3: 'non-binär'})\n",
    "accounts_annotiert.loc[:, 'institution'] = accounts_annotiert['institution'].replace({0: 'unklar', 1: 'Nachrichtendienst', 2: 'Forschungsinstitution', 3: 'Universität/Hochschule', 4: 'Person'})\n",
    "accounts_annotiert.loc[:, 'author_category'] = accounts_annotiert['author_category'].replace({0: 'unklar', 1: 'Wissenschaftler*in', 2: 'wissenschaftsnah', 3: 'Politiker*in', 13: 'Wissenschaftler*in und Politiker*in', 23: 'Wissenschaftsnahe Politiker*in'})"
   ]
  },
  {
   "cell_type": "code",
   "execution_count": 8,
   "id": "4601a6c3-9a9d-477b-93da-2f9028f7d583",
   "metadata": {},
   "outputs": [
    {
     "data": {
      "text/html": [
       "<div>\n",
       "<style scoped>\n",
       "    .dataframe tbody tr th:only-of-type {\n",
       "        vertical-align: middle;\n",
       "    }\n",
       "\n",
       "    .dataframe tbody tr th {\n",
       "        vertical-align: top;\n",
       "    }\n",
       "\n",
       "    .dataframe thead th {\n",
       "        text-align: right;\n",
       "    }\n",
       "</style>\n",
       "<table border=\"1\" class=\"dataframe\">\n",
       "  <thead>\n",
       "    <tr style=\"text-align: right;\">\n",
       "      <th></th>\n",
       "      <th>tweet_creator_atName</th>\n",
       "      <th>tweet_creator_screenName</th>\n",
       "      <th>tweet_creator_bio</th>\n",
       "      <th>gender</th>\n",
       "      <th>institution</th>\n",
       "      <th>author_category</th>\n",
       "    </tr>\n",
       "  </thead>\n",
       "  <tbody>\n",
       "    <tr>\n",
       "      <th>0</th>\n",
       "      <td>GreenFire_93D</td>\n",
       "      <td>GreenFire_Dancer</td>\n",
       "      <td>NaN</td>\n",
       "      <td>unklar</td>\n",
       "      <td>unklar</td>\n",
       "      <td>unklar</td>\n",
       "    </tr>\n",
       "    <tr>\n",
       "      <th>1</th>\n",
       "      <td>lisacarstensen5</td>\n",
       "      <td>@lisacarstensen@toot.community</td>\n",
       "      <td>Social Scientist, she/her, Global Political Ec...</td>\n",
       "      <td>weiblich</td>\n",
       "      <td>Person</td>\n",
       "      <td>Wissenschaftler*in</td>\n",
       "    </tr>\n",
       "    <tr>\n",
       "      <th>2</th>\n",
       "      <td>Mag2012Ge</td>\n",
       "      <td>maggie🇪🇺 #StandWithUkraine 🇺🇦</td>\n",
       "      <td>#blacklivesmatter #humanrights #animalrights #...</td>\n",
       "      <td>weiblich</td>\n",
       "      <td>Person</td>\n",
       "      <td>unklar</td>\n",
       "    </tr>\n",
       "    <tr>\n",
       "      <th>3</th>\n",
       "      <td>MailanderUlla</td>\n",
       "      <td>Ulla Mailänder</td>\n",
       "      <td>Mutter eines erwachsenen Sohnes mit ME/CFS und...</td>\n",
       "      <td>weiblich</td>\n",
       "      <td>Person</td>\n",
       "      <td>unklar</td>\n",
       "    </tr>\n",
       "    <tr>\n",
       "      <th>4</th>\n",
       "      <td>HannesKopf</td>\n",
       "      <td>Hannes Kopf</td>\n",
       "      <td>NaN</td>\n",
       "      <td>männlich</td>\n",
       "      <td>Person</td>\n",
       "      <td>unklar</td>\n",
       "    </tr>\n",
       "    <tr>\n",
       "      <th>...</th>\n",
       "      <td>...</td>\n",
       "      <td>...</td>\n",
       "      <td>...</td>\n",
       "      <td>...</td>\n",
       "      <td>...</td>\n",
       "      <td>...</td>\n",
       "    </tr>\n",
       "    <tr>\n",
       "      <th>10996</th>\n",
       "      <td>elke_sophia</td>\n",
       "      <td>Elke_Sophia</td>\n",
       "      <td>computer science, business administration, ai,...</td>\n",
       "      <td>weiblich</td>\n",
       "      <td>Person</td>\n",
       "      <td>unklar</td>\n",
       "    </tr>\n",
       "    <tr>\n",
       "      <th>10997</th>\n",
       "      <td>TanjaAbou</td>\n",
       "      <td>Tanja Abou</td>\n",
       "      <td>Praxisforschung | Soziale Arbeit | #Careleaver...</td>\n",
       "      <td>weiblich</td>\n",
       "      <td>Person</td>\n",
       "      <td>wissenschaftsnah</td>\n",
       "    </tr>\n",
       "    <tr>\n",
       "      <th>10998</th>\n",
       "      <td>Dr_GackGack</td>\n",
       "      <td>Schwurbeldoktor</td>\n",
       "      <td>Mama, Ärztin, Wissenschaftlerin. Gegen Bevormu...</td>\n",
       "      <td>weiblich</td>\n",
       "      <td>Person</td>\n",
       "      <td>wissenschaftsnah</td>\n",
       "    </tr>\n",
       "    <tr>\n",
       "      <th>11000</th>\n",
       "      <td>SuzannePeacock9</td>\n",
       "      <td>Zooza Peacock</td>\n",
       "      <td>expert, political scientist, aphorist; license...</td>\n",
       "      <td>weiblich</td>\n",
       "      <td>Person</td>\n",
       "      <td>Wissenschaftler*in</td>\n",
       "    </tr>\n",
       "    <tr>\n",
       "      <th>11001</th>\n",
       "      <td>DrManha94072520</td>\n",
       "      <td>Dr.Manhattan</td>\n",
       "      <td>Realize deeply that the present moment is all ...</td>\n",
       "      <td>unklar</td>\n",
       "      <td>Person</td>\n",
       "      <td>wissenschaftsnah</td>\n",
       "    </tr>\n",
       "  </tbody>\n",
       "</table>\n",
       "<p>10818 rows × 6 columns</p>\n",
       "</div>"
      ],
      "text/plain": [
       "      tweet_creator_atName        tweet_creator_screenName  \\\n",
       "0            GreenFire_93D                GreenFire_Dancer   \n",
       "1          lisacarstensen5  @lisacarstensen@toot.community   \n",
       "2                Mag2012Ge   maggie🇪🇺 #StandWithUkraine 🇺🇦   \n",
       "3            MailanderUlla                  Ulla Mailänder   \n",
       "4               HannesKopf                     Hannes Kopf   \n",
       "...                    ...                             ...   \n",
       "10996          elke_sophia                     Elke_Sophia   \n",
       "10997            TanjaAbou                      Tanja Abou   \n",
       "10998          Dr_GackGack                 Schwurbeldoktor   \n",
       "11000      SuzannePeacock9                   Zooza Peacock   \n",
       "11001      DrManha94072520                    Dr.Manhattan   \n",
       "\n",
       "                                       tweet_creator_bio    gender  \\\n",
       "0                                                    NaN    unklar   \n",
       "1      Social Scientist, she/her, Global Political Ec...  weiblich   \n",
       "2      #blacklivesmatter #humanrights #animalrights #...  weiblich   \n",
       "3      Mutter eines erwachsenen Sohnes mit ME/CFS und...  weiblich   \n",
       "4                                                    NaN  männlich   \n",
       "...                                                  ...       ...   \n",
       "10996  computer science, business administration, ai,...  weiblich   \n",
       "10997  Praxisforschung | Soziale Arbeit | #Careleaver...  weiblich   \n",
       "10998  Mama, Ärztin, Wissenschaftlerin. Gegen Bevormu...  weiblich   \n",
       "11000  expert, political scientist, aphorist; license...  weiblich   \n",
       "11001  Realize deeply that the present moment is all ...    unklar   \n",
       "\n",
       "      institution     author_category  \n",
       "0          unklar              unklar  \n",
       "1          Person  Wissenschaftler*in  \n",
       "2          Person              unklar  \n",
       "3          Person              unklar  \n",
       "4          Person              unklar  \n",
       "...           ...                 ...  \n",
       "10996      Person              unklar  \n",
       "10997      Person    wissenschaftsnah  \n",
       "10998      Person    wissenschaftsnah  \n",
       "11000      Person  Wissenschaftler*in  \n",
       "11001      Person    wissenschaftsnah  \n",
       "\n",
       "[10818 rows x 6 columns]"
      ]
     },
     "execution_count": 8,
     "metadata": {},
     "output_type": "execute_result"
    }
   ],
   "source": [
    "accounts_annotiert"
   ]
  },
  {
   "cell_type": "markdown",
   "id": "8a284513-caa5-4170-94ee-3d6099818cd6",
   "metadata": {
    "tags": []
   },
   "source": [
    "## Überblick Datensatz Accounts"
   ]
  },
  {
   "cell_type": "code",
   "execution_count": 9,
   "id": "7789b817-33b9-4dea-82db-5d42db4b8f67",
   "metadata": {},
   "outputs": [],
   "source": [
    "import matplotlib.pyplot as plt\n",
    "colors = ['lightblue', 'lightgreen', 'lightcoral', 'lightyellow']"
   ]
  },
  {
   "cell_type": "code",
   "execution_count": 10,
   "id": "b153ae87-0608-4764-b88e-0bb860b6467c",
   "metadata": {},
   "outputs": [
    {
     "data": {
      "text/plain": [
       "(10818, 6)"
      ]
     },
     "execution_count": 10,
     "metadata": {},
     "output_type": "execute_result"
    }
   ],
   "source": [
    "accounts_annotiert.shape"
   ]
  },
  {
   "cell_type": "markdown",
   "id": "4ba11a9c-fc8a-438d-ab4a-b13e5ba05576",
   "metadata": {},
   "source": [
    "#### Gender Verteilung"
   ]
  },
  {
   "cell_type": "code",
   "execution_count": 11,
   "id": "f1aa2404-5182-4bac-8e4b-ffa713851cb4",
   "metadata": {},
   "outputs": [
    {
     "data": {
      "text/plain": [
       "gender\n",
       "männlich     4401\n",
       "weiblich     2470\n",
       "unklar        889\n",
       "non-binär      99\n",
       "Name: count, dtype: int64"
      ]
     },
     "execution_count": 11,
     "metadata": {},
     "output_type": "execute_result"
    }
   ],
   "source": [
    "gender_counts = accounts_annotiert[accounts_annotiert['institution'] == 'Person']['gender'].value_counts()\n",
    "gender_counts"
   ]
  },
  {
   "cell_type": "code",
   "execution_count": 12,
   "id": "dc6b82bf-24fd-41d4-8016-3e4fd76a3cff",
   "metadata": {},
   "outputs": [
    {
     "data": {
      "image/png": "[encoded data removed]",
      "text/plain": [
       "<Figure size 432x288 with 1 Axes>"
      ]
     },
     "metadata": {},
     "output_type": "display_data"
    }
   ],
   "source": [
    "# Visualisieren der Ergebnisse in einem Kreisdiagramm\n",
    "gender_counts.plot.pie(autopct='%1.1f%%', startangle=90, colors=colors)\n",
    "plt.axis('equal')  # Gleichmäßige Skalierung, um ein Kreisdiagramm sicherzustellen\n",
    "plt.show()"
   ]
  },
  {
   "cell_type": "markdown",
   "id": "578c07f2-c3b3-48a1-901d-15f86806f212",
   "metadata": {},
   "source": [
    "#### Insitution Verteilung"
   ]
  },
  {
   "cell_type": "code",
   "execution_count": 13,
   "id": "3c6a576c-0540-4abd-9880-3b1aacbde9fe",
   "metadata": {},
   "outputs": [
    {
     "data": {
      "text/plain": [
       "institution\n",
       "Person                    7859\n",
       "unklar                    2605\n",
       "Forschungsinstitution      229\n",
       "Nachrichtendienst           85\n",
       "Universität/Hochschule      40\n",
       "Name: count, dtype: int64"
      ]
     },
     "execution_count": 13,
     "metadata": {},
     "output_type": "execute_result"
    }
   ],
   "source": [
    "institution_counts = accounts_annotiert['institution'].value_counts()\n",
    "institution_counts"
   ]
  },
  {
   "cell_type": "code",
   "execution_count": 14,
   "id": "84938b36-e344-44ee-a12a-959e749fa7ac",
   "metadata": {},
   "outputs": [
    {
     "data": {
      "image/png": "[encoded data removed]",
      "text/plain": [
       "<Figure size 432x288 with 1 Axes>"
      ]
     },
     "metadata": {},
     "output_type": "display_data"
    }
   ],
   "source": [
    "# Visualisieren der Ergebnisse in einem Kreisdiagramm\n",
    "institution_counts.plot.pie(autopct='%1.1f%%', startangle=90, colors=colors)\n",
    "plt.axis('equal')  # Gleichmäßige Skalierung, um ein Kreisdiagramm sicherzustellen\n",
    "plt.show()"
   ]
  },
  {
   "cell_type": "markdown",
   "id": "08519259-cca7-46c1-bcc3-57c12ede6cfe",
   "metadata": {},
   "source": [
    "#### Wissenschaftler:in Verteilung"
   ]
  },
  {
   "cell_type": "code",
   "execution_count": 15,
   "id": "59c2a57c-382a-4d96-ad7f-242ba2f3891a",
   "metadata": {},
   "outputs": [
    {
     "data": {
      "text/plain": [
       "author_category\n",
       "unklar                                 9280\n",
       "Wissenschaftler*in                      962\n",
       "wissenschaftsnah                        456\n",
       "Politiker*in                            108\n",
       "Wissenschaftsnahe Politiker*in           11\n",
       "Wissenschaftler*in und Politiker*in       1\n",
       "Name: count, dtype: int64"
      ]
     },
     "execution_count": 15,
     "metadata": {},
     "output_type": "execute_result"
    }
   ],
   "source": [
    "wissenschaft_counts = accounts_annotiert['author_category'].value_counts()\n",
    "wissenschaft_counts"
   ]
  },
  {
   "cell_type": "code",
   "execution_count": 16,
   "id": "38066d9a-6e04-4821-b358-00d74494028b",
   "metadata": {},
   "outputs": [
    {
     "data": {
      "image/png": "[encoded data removed]",
      "text/plain": [
       "<Figure size 432x288 with 1 Axes>"
      ]
     },
     "metadata": {},
     "output_type": "display_data"
    }
   ],
   "source": [
    "# Visualisieren der Ergebnisse in einem Kreisdiagramm\n",
    "wissenschaft_counts.plot.pie(autopct='%1.1f%%', startangle=90, colors=colors)\n",
    "plt.axis('equal')  # Gleichmäßige Skalierung, um ein Kreisdiagramm sicherzustellen\n",
    "plt.show()"
   ]
  },
  {
   "cell_type": "code",
   "execution_count": 17,
   "id": "5eeb75cb-23cc-4cde-83af-10bf936cdfef",
   "metadata": {},
   "outputs": [
    {
     "data": {
      "text/plain": [
       "gender\n",
       "männlich     525\n",
       "weiblich     407\n",
       "unklar        25\n",
       "non-binär      6\n",
       "Name: count, dtype: int64"
      ]
     },
     "execution_count": 17,
     "metadata": {},
     "output_type": "execute_result"
    }
   ],
   "source": [
    "gender_wissenschafts_counts = accounts_annotiert[(accounts_annotiert['author_category'] == 'Wissenschaftler*in') | (accounts_annotiert['author_category'] == 'Wissenschaftler*in und Politiker*in')]['gender'].value_counts()\n",
    "gender_wissenschafts_counts "
   ]
  },
  {
   "cell_type": "code",
   "execution_count": 18,
   "id": "566e8793-db07-482a-b2e5-ae18ba211b09",
   "metadata": {},
   "outputs": [
    {
     "data": {
      "image/png": "[encoded data removed]",
      "text/plain": [
       "<Figure size 432x288 with 1 Axes>"
      ]
     },
     "metadata": {},
     "output_type": "display_data"
    }
   ],
   "source": [
    "# Visualisieren der Ergebnisse in einem Kreisdiagramm\n",
    "gender_wissenschafts_counts.plot.pie(autopct='%1.1f%%', startangle=90, colors=colors)\n",
    "plt.axis('equal')  # Gleichmäßige Skalierung, um ein Kreisdiagramm sicherzustellen\n",
    "plt.show()"
   ]
  },
  {
   "cell_type": "code",
   "execution_count": 19,
   "id": "6f86087b-8e89-4f63-a29a-fd5c84a3ee8c",
   "metadata": {
    "tags": []
   },
   "outputs": [
    {
     "data": {
      "text/plain": [
       "gender\n",
       "männlich     796\n",
       "weiblich     569\n",
       "unklar        53\n",
       "non-binär     12\n",
       "Name: count, dtype: int64"
      ]
     },
     "execution_count": 19,
     "metadata": {},
     "output_type": "execute_result"
    }
   ],
   "source": [
    "gender_wissenschafts_erweitert_counts = accounts_annotiert[(accounts_annotiert['author_category'] == 'Wissenschaftler*in') | (accounts_annotiert['author_category'] == 'wissenschaftsnah') | (accounts_annotiert['author_category'] == 'Wissenschaftler*in und Politiker*in')| (accounts_annotiert['author_category'] == 'Wissenschaftsnahe Politiker*in')]['gender'].value_counts()\n",
    "gender_wissenschafts_erweitert_counts"
   ]
  },
  {
   "cell_type": "code",
   "execution_count": 20,
   "id": "3b8d488d-f2d0-4f2d-9e27-692bfa1d5a35",
   "metadata": {},
   "outputs": [
    {
     "data": {
      "image/png": "[encoded data removed]",
      "text/plain": [
       "<Figure size 432x288 with 1 Axes>"
      ]
     },
     "metadata": {},
     "output_type": "display_data"
    }
   ],
   "source": [
    "# Visualisieren der Ergebnisse in einem Kreisdiagramm\n",
    "gender_wissenschafts_erweitert_counts.plot.pie(autopct='%1.1f%%', startangle=90, colors=colors)\n",
    "plt.show()"
   ]
  },
  {
   "cell_type": "markdown",
   "id": "64ebe7e6-638d-41af-ab5e-c1214425409e",
   "metadata": {
    "tags": []
   },
   "source": [
    "## Tweets der annotierten Accounts filtern"
   ]
  },
  {
   "cell_type": "code",
   "execution_count": 21,
   "id": "b0499928-6815-473f-a21d-e60358eca7ad",
   "metadata": {},
   "outputs": [
    {
     "data": {
      "text/plain": [
       "(25903, 26)"
      ]
     },
     "execution_count": 21,
     "metadata": {},
     "output_type": "execute_result"
    }
   ],
   "source": [
    "df_annotiert = df[df['tweet_creator_atName'].isin(accounts_annotiert['tweet_creator_atName'])]\n",
    "df_annotiert.shape"
   ]
  },
  {
   "cell_type": "markdown",
   "id": "32bc38bb-7155-457a-9791-743085b81397",
   "metadata": {
    "tags": []
   },
   "source": [
    "#### Annotierte Spalten hinzufügen"
   ]
  },
  {
   "cell_type": "code",
   "execution_count": 22,
   "id": "2c44d0d6-eebc-4990-802f-eab097c1524a",
   "metadata": {},
   "outputs": [],
   "source": [
    "annotierte_spalten = ['tweet_creator_atName','gender', 'institution', 'author_category']\n",
    "\n",
    "# Merge der DataFrames basierend auf der gemeinsamen Spalte 'tweet_creator_atName'\n",
    "# how='left', um alle Zeilen in df_annotiert zu behalten\n",
    "df_annotiert = pd.merge(df_annotiert, accounts_annotiert[annotierte_spalten], how='left', on='tweet_creator_atName')"
   ]
  },
  {
   "cell_type": "markdown",
   "id": "e09fbb92-6d97-4983-8eac-39334c4e2042",
   "metadata": {},
   "source": [
    "#### Relevante Spalten filtern"
   ]
  },
  {
   "cell_type": "code",
   "execution_count": 23,
   "id": "62280ecd-807d-4bb9-9df1-5fbfca2bf271",
   "metadata": {},
   "outputs": [
    {
     "data": {
      "text/plain": [
       "Index(['Unnamed: 0', 'nr_flatfile', 'lfdnr_table', 'lfdnr', 'tweet_link',\n",
       "       'tweet_date_create', 'tweet_creator_atName', 'tweet_creator_screenName',\n",
       "       'tweet_creator_bio', 'tweet_text', 'answer_link_to_origin_tweet',\n",
       "       'retweet_link_to_retweeted_tweet',\n",
       "       'retweet_date_create_retweeted_tweet',\n",
       "       'retweet_atName_creator_retweeted_tweet',\n",
       "       'retweet_screenName_creator_retweeted_tweet',\n",
       "       'retweet_bio_creator_retweeted_tweet', 'retweet_text_retweeted_tweet',\n",
       "       'zitat_link_to_qouted_tweet', 'zitat_date_create_qouted_tweet',\n",
       "       'zitat_atName_creator_qouted_tweet',\n",
       "       'zitat_screenName_creator_qouted_tweet',\n",
       "       'zitat_bio_creator_qouted_tweet', 'zitat_text', 'hashtags_tweet',\n",
       "       'hashtags_retweet', 'hashtags_zitat', 'gender', 'institution',\n",
       "       'author_category'],\n",
       "      dtype='object')"
      ]
     },
     "execution_count": 23,
     "metadata": {},
     "output_type": "execute_result"
    }
   ],
   "source": [
    "df_annotiert.columns"
   ]
  },
  {
   "cell_type": "code",
   "execution_count": 24,
   "id": "6d1d4afd-5313-4c82-9a84-492a5d2b35f2",
   "metadata": {},
   "outputs": [],
   "source": [
    "df_annotiert_text = df_annotiert[['tweet_date_create','tweet_creator_atName','tweet_creator_screenName','tweet_creator_bio','tweet_text','retweet_text_retweeted_tweet','zitat_text','gender', 'institution', 'author_category']]"
   ]
  },
  {
   "cell_type": "code",
   "execution_count": 25,
   "id": "3b6c140e-f23a-40e1-a202-8727b74d8eb8",
   "metadata": {},
   "outputs": [
    {
     "data": {
      "text/html": [
       "<div>\n",
       "<style scoped>\n",
       "    .dataframe tbody tr th:only-of-type {\n",
       "        vertical-align: middle;\n",
       "    }\n",
       "\n",
       "    .dataframe tbody tr th {\n",
       "        vertical-align: top;\n",
       "    }\n",
       "\n",
       "    .dataframe thead th {\n",
       "        text-align: right;\n",
       "    }\n",
       "</style>\n",
       "<table border=\"1\" class=\"dataframe\">\n",
       "  <thead>\n",
       "    <tr style=\"text-align: right;\">\n",
       "      <th></th>\n",
       "      <th>tweet_date_create</th>\n",
       "      <th>tweet_creator_atName</th>\n",
       "      <th>tweet_creator_screenName</th>\n",
       "      <th>tweet_creator_bio</th>\n",
       "      <th>tweet_text</th>\n",
       "      <th>retweet_text_retweeted_tweet</th>\n",
       "      <th>zitat_text</th>\n",
       "      <th>gender</th>\n",
       "      <th>institution</th>\n",
       "      <th>author_category</th>\n",
       "    </tr>\n",
       "  </thead>\n",
       "  <tbody>\n",
       "    <tr>\n",
       "      <th>0</th>\n",
       "      <td>2022-12-14 20:19:48</td>\n",
       "      <td>SuchtiSchleich</td>\n",
       "      <td>Steffk</td>\n",
       "      <td>NaN</td>\n",
       "      <td>-998</td>\n",
       "      <td>Es scheint so weit weg, so surreal, aber es fe...</td>\n",
       "      <td>-998</td>\n",
       "      <td>männlich</td>\n",
       "      <td>Person</td>\n",
       "      <td>unklar</td>\n",
       "    </tr>\n",
       "    <tr>\n",
       "      <th>1</th>\n",
       "      <td>2022-12-14 20:20:26</td>\n",
       "      <td>printi71</td>\n",
       "      <td>printi007 aka Dr. Canceloretta</td>\n",
       "      <td>😷 Infektionsverweigerin</td>\n",
       "      <td>-998</td>\n",
       "      <td>@mecfsbuch @nervensystemck #KleinschnitzRaussc...</td>\n",
       "      <td>#KleinschnitzRausschmiss bitte jetzt @Uniklini...</td>\n",
       "      <td>weiblich</td>\n",
       "      <td>Person</td>\n",
       "      <td>unklar</td>\n",
       "    </tr>\n",
       "    <tr>\n",
       "      <th>2</th>\n",
       "      <td>2022-12-14 20:20:34</td>\n",
       "      <td>4linblue1</td>\n",
       "      <td>4linblue🔱</td>\n",
       "      <td>Wenn ein Kopf und ein Buch zusammen stoßen und...</td>\n",
       "      <td>@MartinZenker @JochenBittner Hier in der Famil...</td>\n",
       "      <td>-998</td>\n",
       "      <td>-998</td>\n",
       "      <td>unklar</td>\n",
       "      <td>unklar</td>\n",
       "      <td>unklar</td>\n",
       "    </tr>\n",
       "    <tr>\n",
       "      <th>3</th>\n",
       "      <td>2022-12-14 20:21:01</td>\n",
       "      <td>HartwigKmmerle</td>\n",
       "      <td>Ho finito!</td>\n",
       "      <td>+ jedem Anfang wohnt ein Zauber inne, der uns ...</td>\n",
       "      <td>-998</td>\n",
       "      <td>Forschung an einem faszinierenden Potenzialthe...</td>\n",
       "      <td>-998</td>\n",
       "      <td>männlich</td>\n",
       "      <td>Person</td>\n",
       "      <td>unklar</td>\n",
       "    </tr>\n",
       "    <tr>\n",
       "      <th>4</th>\n",
       "      <td>2022-12-14 20:21:11</td>\n",
       "      <td>printi71</td>\n",
       "      <td>printi007 aka Dr. Canceloretta</td>\n",
       "      <td>😷 Infektionsverweigerin</td>\n",
       "      <td>-998</td>\n",
       "      <td>#KleinschnitzRausschmiss sollte trenden!</td>\n",
       "      <td>#KleinschnitzRausschmiss bitte jetzt @Uniklini...</td>\n",
       "      <td>weiblich</td>\n",
       "      <td>Person</td>\n",
       "      <td>unklar</td>\n",
       "    </tr>\n",
       "    <tr>\n",
       "      <th>...</th>\n",
       "      <td>...</td>\n",
       "      <td>...</td>\n",
       "      <td>...</td>\n",
       "      <td>...</td>\n",
       "      <td>...</td>\n",
       "      <td>...</td>\n",
       "      <td>...</td>\n",
       "      <td>...</td>\n",
       "      <td>...</td>\n",
       "      <td>...</td>\n",
       "    </tr>\n",
       "    <tr>\n",
       "      <th>25898</th>\n",
       "      <td>2023-02-13 07:23:27</td>\n",
       "      <td>HOPOS_d</td>\n",
       "      <td>HOPOS</td>\n",
       "      <td>HOPOS gibt den hämato-onkologischen Patienteno...</td>\n",
       "      <td>Der Jahresbericht 2022 von HOPOS ist online. E...</td>\n",
       "      <td>-998</td>\n",
       "      <td>-998</td>\n",
       "      <td>unklar</td>\n",
       "      <td>unklar</td>\n",
       "      <td>unklar</td>\n",
       "    </tr>\n",
       "    <tr>\n",
       "      <th>25899</th>\n",
       "      <td>2023-02-13 07:26:52</td>\n",
       "      <td>HomoopathieB</td>\n",
       "      <td>Homöopathie Bayern</td>\n",
       "      <td>Der LV Bayern im DZVhÄ vertritt rund 600 homöo...</td>\n",
       "      <td>-998</td>\n",
       "      <td>\"#Wissenschaft🧪: Das @hri veröffentlicht regel...</td>\n",
       "      <td>-998</td>\n",
       "      <td>unklar</td>\n",
       "      <td>unklar</td>\n",
       "      <td>unklar</td>\n",
       "    </tr>\n",
       "    <tr>\n",
       "      <th>25900</th>\n",
       "      <td>2023-02-13 07:37:23</td>\n",
       "      <td>salbei77</td>\n",
       "      <td>Salbei77</td>\n",
       "      <td>NaN</td>\n",
       "      <td>@IppoAng Ich denke du kämpfst und alles was du...</td>\n",
       "      <td>-998</td>\n",
       "      <td>-998</td>\n",
       "      <td>unklar</td>\n",
       "      <td>unklar</td>\n",
       "      <td>unklar</td>\n",
       "    </tr>\n",
       "    <tr>\n",
       "      <th>25901</th>\n",
       "      <td>2023-02-13 07:39:48</td>\n",
       "      <td>BundnisM</td>\n",
       "      <td>bündnis mikroplastikfrei</td>\n",
       "      <td>Der Zukunft verpflichtet!</td>\n",
       "      <td>Forschende des @AWI_de haben nun die Herkunft ...</td>\n",
       "      <td>-998</td>\n",
       "      <td>-998</td>\n",
       "      <td>unklar</td>\n",
       "      <td>unklar</td>\n",
       "      <td>unklar</td>\n",
       "    </tr>\n",
       "    <tr>\n",
       "      <th>25902</th>\n",
       "      <td>2023-02-13 07:39:54</td>\n",
       "      <td>KlapetzPatrick</td>\n",
       "      <td>Patrick Klapetz 🇺🇦 🚀🛰️🪐🌕</td>\n",
       "      <td>Space und Science Journalist, Grafiker | | |</td>\n",
       "      <td>-998</td>\n",
       "      <td>Forschung: Mondstaub zum Schutz gegen den Klim...</td>\n",
       "      <td>-998</td>\n",
       "      <td>männlich</td>\n",
       "      <td>Person</td>\n",
       "      <td>unklar</td>\n",
       "    </tr>\n",
       "  </tbody>\n",
       "</table>\n",
       "<p>25903 rows × 10 columns</p>\n",
       "</div>"
      ],
      "text/plain": [
       "        tweet_date_create tweet_creator_atName  \\\n",
       "0     2022-12-14 20:19:48       SuchtiSchleich   \n",
       "1     2022-12-14 20:20:26             printi71   \n",
       "2     2022-12-14 20:20:34            4linblue1   \n",
       "3     2022-12-14 20:21:01       HartwigKmmerle   \n",
       "4     2022-12-14 20:21:11             printi71   \n",
       "...                   ...                  ...   \n",
       "25898 2023-02-13 07:23:27              HOPOS_d   \n",
       "25899 2023-02-13 07:26:52         HomoopathieB   \n",
       "25900 2023-02-13 07:37:23             salbei77   \n",
       "25901 2023-02-13 07:39:48             BundnisM   \n",
       "25902 2023-02-13 07:39:54       KlapetzPatrick   \n",
       "\n",
       "             tweet_creator_screenName  \\\n",
       "0                              Steffk   \n",
       "1      printi007 aka Dr. Canceloretta   \n",
       "2                           4linblue🔱   \n",
       "3                          Ho finito!   \n",
       "4      printi007 aka Dr. Canceloretta   \n",
       "...                               ...   \n",
       "25898                           HOPOS   \n",
       "25899              Homöopathie Bayern   \n",
       "25900                        Salbei77   \n",
       "25901        bündnis mikroplastikfrei   \n",
       "25902        Patrick Klapetz 🇺🇦 🚀🛰️🪐🌕   \n",
       "\n",
       "                                       tweet_creator_bio  \\\n",
       "0                                                    NaN   \n",
       "1                                😷 Infektionsverweigerin   \n",
       "2      Wenn ein Kopf und ein Buch zusammen stoßen und...   \n",
       "3      + jedem Anfang wohnt ein Zauber inne, der uns ...   \n",
       "4                                😷 Infektionsverweigerin   \n",
       "...                                                  ...   \n",
       "25898  HOPOS gibt den hämato-onkologischen Patienteno...   \n",
       "25899  Der LV Bayern im DZVhÄ vertritt rund 600 homöo...   \n",
       "25900                                                NaN   \n",
       "25901                          Der Zukunft verpflichtet!   \n",
       "25902      Space und Science Journalist, Grafiker | | |    \n",
       "\n",
       "                                              tweet_text  \\\n",
       "0                                                   -998   \n",
       "1                                                   -998   \n",
       "2      @MartinZenker @JochenBittner Hier in der Famil...   \n",
       "3                                                   -998   \n",
       "4                                                   -998   \n",
       "...                                                  ...   \n",
       "25898  Der Jahresbericht 2022 von HOPOS ist online. E...   \n",
       "25899                                               -998   \n",
       "25900  @IppoAng Ich denke du kämpfst und alles was du...   \n",
       "25901  Forschende des @AWI_de haben nun die Herkunft ...   \n",
       "25902                                               -998   \n",
       "\n",
       "                            retweet_text_retweeted_tweet  \\\n",
       "0      Es scheint so weit weg, so surreal, aber es fe...   \n",
       "1      @mecfsbuch @nervensystemck #KleinschnitzRaussc...   \n",
       "2                                                   -998   \n",
       "3      Forschung an einem faszinierenden Potenzialthe...   \n",
       "4              #KleinschnitzRausschmiss sollte trenden!    \n",
       "...                                                  ...   \n",
       "25898                                               -998   \n",
       "25899  \"#Wissenschaft🧪: Das @hri veröffentlicht regel...   \n",
       "25900                                               -998   \n",
       "25901                                               -998   \n",
       "25902  Forschung: Mondstaub zum Schutz gegen den Klim...   \n",
       "\n",
       "                                              zitat_text    gender  \\\n",
       "0                                                   -998  männlich   \n",
       "1      #KleinschnitzRausschmiss bitte jetzt @Uniklini...  weiblich   \n",
       "2                                                   -998    unklar   \n",
       "3                                                   -998  männlich   \n",
       "4      #KleinschnitzRausschmiss bitte jetzt @Uniklini...  weiblich   \n",
       "...                                                  ...       ...   \n",
       "25898                                               -998    unklar   \n",
       "25899                                               -998    unklar   \n",
       "25900                                               -998    unklar   \n",
       "25901                                               -998    unklar   \n",
       "25902                                               -998  männlich   \n",
       "\n",
       "      institution author_category  \n",
       "0          Person          unklar  \n",
       "1          Person          unklar  \n",
       "2          unklar          unklar  \n",
       "3          Person          unklar  \n",
       "4          Person          unklar  \n",
       "...           ...             ...  \n",
       "25898      unklar          unklar  \n",
       "25899      unklar          unklar  \n",
       "25900      unklar          unklar  \n",
       "25901      unklar          unklar  \n",
       "25902      Person          unklar  \n",
       "\n",
       "[25903 rows x 10 columns]"
      ]
     },
     "execution_count": 25,
     "metadata": {},
     "output_type": "execute_result"
    }
   ],
   "source": [
    "df_annotiert_text"
   ]
  },
  {
   "cell_type": "markdown",
   "id": "d89179bf-70cb-45f7-b109-2ae59e255302",
   "metadata": {},
   "source": [
    "### Bereinigen der Tweet-Daten"
   ]
  },
  {
   "cell_type": "code",
   "execution_count": 26,
   "id": "201ed460-0331-450b-bd5a-c029a1519710",
   "metadata": {},
   "outputs": [
    {
     "data": {
      "text/plain": [
       "(517, 10)"
      ]
     },
     "execution_count": 26,
     "metadata": {},
     "output_type": "execute_result"
    }
   ],
   "source": [
    "# Suchen nach exakt gleichen Texten (ausgenommen -998) in der Spalte 'tweet_text'\n",
    "exakte_duplikate = df_annotiert_text[df_annotiert_text['tweet_text'].duplicated(keep=False) & (df_annotiert_text['tweet_text'] != '-998')]\n",
    "exakte_duplikate.shape"
   ]
  },
  {
   "cell_type": "code",
   "execution_count": 27,
   "id": "b6288751-4073-4520-ba0f-7b8f289611da",
   "metadata": {},
   "outputs": [
    {
     "data": {
      "text/html": [
       "<div>\n",
       "<style scoped>\n",
       "    .dataframe tbody tr th:only-of-type {\n",
       "        vertical-align: middle;\n",
       "    }\n",
       "\n",
       "    .dataframe tbody tr th {\n",
       "        vertical-align: top;\n",
       "    }\n",
       "\n",
       "    .dataframe thead th {\n",
       "        text-align: right;\n",
       "    }\n",
       "</style>\n",
       "<table border=\"1\" class=\"dataframe\">\n",
       "  <thead>\n",
       "    <tr style=\"text-align: right;\">\n",
       "      <th></th>\n",
       "      <th>tweet_date_create</th>\n",
       "      <th>tweet_creator_atName</th>\n",
       "      <th>tweet_creator_screenName</th>\n",
       "      <th>tweet_creator_bio</th>\n",
       "      <th>tweet_text</th>\n",
       "      <th>retweet_text_retweeted_tweet</th>\n",
       "      <th>zitat_text</th>\n",
       "      <th>gender</th>\n",
       "      <th>institution</th>\n",
       "      <th>author_category</th>\n",
       "    </tr>\n",
       "  </thead>\n",
       "  <tbody>\n",
       "    <tr>\n",
       "      <th>116</th>\n",
       "      <td>2022-12-15 02:26:44</td>\n",
       "      <td>wissenschaft_de</td>\n",
       "      <td>論文のドイツ語bot</td>\n",
       "      <td>個人的な勉強用。論文やレポートを書く際に有用だと思うドイツ語語彙・表現などを一時間おきにつぶ...</td>\n",
       "      <td>Aktuelle Entwicklungen in der Praxis sollen au...</td>\n",
       "      <td>-998</td>\n",
       "      <td>-998</td>\n",
       "      <td>unklar</td>\n",
       "      <td>unklar</td>\n",
       "      <td>unklar</td>\n",
       "    </tr>\n",
       "    <tr>\n",
       "      <th>145</th>\n",
       "      <td>2022-12-15 05:56:28</td>\n",
       "      <td>ReneHWenk</td>\n",
       "      <td>René Wenk</td>\n",
       "      <td>Dozent, Autor, Influencer</td>\n",
       "      <td>Alzheimer: Endlich ein Hoffnungsschimmer Laut ...</td>\n",
       "      <td>-998</td>\n",
       "      <td>-998</td>\n",
       "      <td>männlich</td>\n",
       "      <td>Person</td>\n",
       "      <td>wissenschaftsnah</td>\n",
       "    </tr>\n",
       "    <tr>\n",
       "      <th>160</th>\n",
       "      <td>2022-12-15 06:26:24</td>\n",
       "      <td>heon1474</td>\n",
       "      <td>Jörg</td>\n",
       "      <td>„Im Übrigen gilt ja hier derjenige, der auf de...</td>\n",
       "      <td>Forschung zur aktuellen Übersterblichkeit durc...</td>\n",
       "      <td>-998</td>\n",
       "      <td>-998</td>\n",
       "      <td>männlich</td>\n",
       "      <td>Person</td>\n",
       "      <td>unklar</td>\n",
       "    </tr>\n",
       "    <tr>\n",
       "      <th>368</th>\n",
       "      <td>2022-12-15 10:55:41</td>\n",
       "      <td>REHADAT</td>\n",
       "      <td>REHADAT</td>\n",
       "      <td>Das unabhängige Informationsangebot zur berufl...</td>\n",
       "      <td>💡Kennen Sie schon REHADAT-Forschung? Das Porta...</td>\n",
       "      <td>-998</td>\n",
       "      <td>-998</td>\n",
       "      <td>unklar</td>\n",
       "      <td>unklar</td>\n",
       "      <td>unklar</td>\n",
       "    </tr>\n",
       "    <tr>\n",
       "      <th>371</th>\n",
       "      <td>2022-12-15 10:56:57</td>\n",
       "      <td>REHADAT</td>\n",
       "      <td>REHADAT</td>\n",
       "      <td>Das unabhängige Informationsangebot zur berufl...</td>\n",
       "      <td>💡Kennen Sie schon REHADAT-Forschung? Das Porta...</td>\n",
       "      <td>-998</td>\n",
       "      <td>-998</td>\n",
       "      <td>unklar</td>\n",
       "      <td>unklar</td>\n",
       "      <td>unklar</td>\n",
       "    </tr>\n",
       "    <tr>\n",
       "      <th>...</th>\n",
       "      <td>...</td>\n",
       "      <td>...</td>\n",
       "      <td>...</td>\n",
       "      <td>...</td>\n",
       "      <td>...</td>\n",
       "      <td>...</td>\n",
       "      <td>...</td>\n",
       "      <td>...</td>\n",
       "      <td>...</td>\n",
       "      <td>...</td>\n",
       "    </tr>\n",
       "    <tr>\n",
       "      <th>25626</th>\n",
       "      <td>2023-02-11 23:28:49</td>\n",
       "      <td>Bastian81165171</td>\n",
       "      <td>☮️🕊🇺🇦🇪🇺Bastian/Jennifer 🇪🇺🇺🇦🕊☮️</td>\n",
       "      <td>💚💚💚💚 #WirGegenRechts #NOAFD #FCKAFD #FCKNZS Wi...</td>\n",
       "      <td>⬇️⬇️</td>\n",
       "      <td>-998</td>\n",
       "      <td>Australische Wissenschaftler haben einen Stoff...</td>\n",
       "      <td>unklar</td>\n",
       "      <td>Person</td>\n",
       "      <td>unklar</td>\n",
       "    </tr>\n",
       "    <tr>\n",
       "      <th>25795</th>\n",
       "      <td>2023-02-12 15:22:28</td>\n",
       "      <td>BertholdForssma</td>\n",
       "      <td>Dr. Berthold Forssman Übersetzungen</td>\n",
       "      <td>Staatlich geprüfter + vom Landgericht Berlin e...</td>\n",
       "      <td>Waren die Germanen wirklich nur raubeinige Bar...</td>\n",
       "      <td>-998</td>\n",
       "      <td>-998</td>\n",
       "      <td>männlich</td>\n",
       "      <td>Person</td>\n",
       "      <td>wissenschaftsnah</td>\n",
       "    </tr>\n",
       "    <tr>\n",
       "      <th>25803</th>\n",
       "      <td>2023-02-12 15:41:26</td>\n",
       "      <td>FAZ_RheinMain</td>\n",
       "      <td>FAZ Rhein-Main</td>\n",
       "      <td>Aktuelle Nachrichten der Frankfurter Allgemein...</td>\n",
       "      <td>Infektiologin Susanne Herold vom @ukgm_presse ...</td>\n",
       "      <td>-998</td>\n",
       "      <td>-998</td>\n",
       "      <td>unklar</td>\n",
       "      <td>Nachrichtendienst</td>\n",
       "      <td>unklar</td>\n",
       "    </tr>\n",
       "    <tr>\n",
       "      <th>25804</th>\n",
       "      <td>2023-02-12 15:41:26</td>\n",
       "      <td>FAZ_Vermischtes</td>\n",
       "      <td>FAZ Gesellschaft</td>\n",
       "      <td>Aktuelles aus Gesellschaft der Frankfurter All...</td>\n",
       "      <td>Infektiologin Susanne Herold vom @ukgm_presse ...</td>\n",
       "      <td>-998</td>\n",
       "      <td>-998</td>\n",
       "      <td>unklar</td>\n",
       "      <td>Nachrichtendienst</td>\n",
       "      <td>unklar</td>\n",
       "    </tr>\n",
       "    <tr>\n",
       "      <th>25870</th>\n",
       "      <td>2023-02-12 21:35:55</td>\n",
       "      <td>BertholdForssma</td>\n",
       "      <td>Dr. Berthold Forssman Übersetzungen</td>\n",
       "      <td>Staatlich geprüfter + vom Landgericht Berlin e...</td>\n",
       "      <td>Waren die Germanen wirklich nur raubeinige Bar...</td>\n",
       "      <td>-998</td>\n",
       "      <td>-998</td>\n",
       "      <td>männlich</td>\n",
       "      <td>Person</td>\n",
       "      <td>wissenschaftsnah</td>\n",
       "    </tr>\n",
       "  </tbody>\n",
       "</table>\n",
       "<p>517 rows × 10 columns</p>\n",
       "</div>"
      ],
      "text/plain": [
       "        tweet_date_create tweet_creator_atName  \\\n",
       "116   2022-12-15 02:26:44      wissenschaft_de   \n",
       "145   2022-12-15 05:56:28            ReneHWenk   \n",
       "160   2022-12-15 06:26:24             heon1474   \n",
       "368   2022-12-15 10:55:41              REHADAT   \n",
       "371   2022-12-15 10:56:57              REHADAT   \n",
       "...                   ...                  ...   \n",
       "25626 2023-02-11 23:28:49      Bastian81165171   \n",
       "25795 2023-02-12 15:22:28      BertholdForssma   \n",
       "25803 2023-02-12 15:41:26        FAZ_RheinMain   \n",
       "25804 2023-02-12 15:41:26      FAZ_Vermischtes   \n",
       "25870 2023-02-12 21:35:55      BertholdForssma   \n",
       "\n",
       "                  tweet_creator_screenName  \\\n",
       "116                             論文のドイツ語bot   \n",
       "145                              René Wenk   \n",
       "160                                   Jörg   \n",
       "368                                REHADAT   \n",
       "371                                REHADAT   \n",
       "...                                    ...   \n",
       "25626      ☮️🕊🇺🇦🇪🇺Bastian/Jennifer 🇪🇺🇺🇦🕊☮️   \n",
       "25795  Dr. Berthold Forssman Übersetzungen   \n",
       "25803                       FAZ Rhein-Main   \n",
       "25804                     FAZ Gesellschaft   \n",
       "25870  Dr. Berthold Forssman Übersetzungen   \n",
       "\n",
       "                                       tweet_creator_bio  \\\n",
       "116    個人的な勉強用。論文やレポートを書く際に有用だと思うドイツ語語彙・表現などを一時間おきにつぶ...   \n",
       "145                            Dozent, Autor, Influencer   \n",
       "160    „Im Übrigen gilt ja hier derjenige, der auf de...   \n",
       "368    Das unabhängige Informationsangebot zur berufl...   \n",
       "371    Das unabhängige Informationsangebot zur berufl...   \n",
       "...                                                  ...   \n",
       "25626  💚💚💚💚 #WirGegenRechts #NOAFD #FCKAFD #FCKNZS Wi...   \n",
       "25795  Staatlich geprüfter + vom Landgericht Berlin e...   \n",
       "25803  Aktuelle Nachrichten der Frankfurter Allgemein...   \n",
       "25804  Aktuelles aus Gesellschaft der Frankfurter All...   \n",
       "25870  Staatlich geprüfter + vom Landgericht Berlin e...   \n",
       "\n",
       "                                              tweet_text  \\\n",
       "116    Aktuelle Entwicklungen in der Praxis sollen au...   \n",
       "145    Alzheimer: Endlich ein Hoffnungsschimmer Laut ...   \n",
       "160    Forschung zur aktuellen Übersterblichkeit durc...   \n",
       "368    💡Kennen Sie schon REHADAT-Forschung? Das Porta...   \n",
       "371    💡Kennen Sie schon REHADAT-Forschung? Das Porta...   \n",
       "...                                                  ...   \n",
       "25626                                               ⬇️⬇️   \n",
       "25795  Waren die Germanen wirklich nur raubeinige Bar...   \n",
       "25803  Infektiologin Susanne Herold vom @ukgm_presse ...   \n",
       "25804  Infektiologin Susanne Herold vom @ukgm_presse ...   \n",
       "25870  Waren die Germanen wirklich nur raubeinige Bar...   \n",
       "\n",
       "      retweet_text_retweeted_tweet  \\\n",
       "116                           -998   \n",
       "145                           -998   \n",
       "160                           -998   \n",
       "368                           -998   \n",
       "371                           -998   \n",
       "...                            ...   \n",
       "25626                         -998   \n",
       "25795                         -998   \n",
       "25803                         -998   \n",
       "25804                         -998   \n",
       "25870                         -998   \n",
       "\n",
       "                                              zitat_text    gender  \\\n",
       "116                                                 -998    unklar   \n",
       "145                                                 -998  männlich   \n",
       "160                                                 -998  männlich   \n",
       "368                                                 -998    unklar   \n",
       "371                                                 -998    unklar   \n",
       "...                                                  ...       ...   \n",
       "25626  Australische Wissenschaftler haben einen Stoff...    unklar   \n",
       "25795                                               -998  männlich   \n",
       "25803                                               -998    unklar   \n",
       "25804                                               -998    unklar   \n",
       "25870                                               -998  männlich   \n",
       "\n",
       "             institution   author_category  \n",
       "116               unklar            unklar  \n",
       "145               Person  wissenschaftsnah  \n",
       "160               Person            unklar  \n",
       "368               unklar            unklar  \n",
       "371               unklar            unklar  \n",
       "...                  ...               ...  \n",
       "25626             Person            unklar  \n",
       "25795             Person  wissenschaftsnah  \n",
       "25803  Nachrichtendienst            unklar  \n",
       "25804  Nachrichtendienst            unklar  \n",
       "25870             Person  wissenschaftsnah  \n",
       "\n",
       "[517 rows x 10 columns]"
      ]
     },
     "execution_count": 27,
     "metadata": {},
     "output_type": "execute_result"
    }
   ],
   "source": [
    "exakte_duplikate"
   ]
  },
  {
   "cell_type": "code",
   "execution_count": 28,
   "id": "69ac4a30-32c2-4ae6-9626-b95be8c2c91d",
   "metadata": {},
   "outputs": [
    {
     "data": {
      "text/html": [
       "<div>\n",
       "<style scoped>\n",
       "    .dataframe tbody tr th:only-of-type {\n",
       "        vertical-align: middle;\n",
       "    }\n",
       "\n",
       "    .dataframe tbody tr th {\n",
       "        vertical-align: top;\n",
       "    }\n",
       "\n",
       "    .dataframe thead th {\n",
       "        text-align: right;\n",
       "    }\n",
       "</style>\n",
       "<table border=\"1\" class=\"dataframe\">\n",
       "  <thead>\n",
       "    <tr style=\"text-align: right;\">\n",
       "      <th></th>\n",
       "      <th>tweet_creator_atName</th>\n",
       "      <th>Anzahl_Vorkommen</th>\n",
       "    </tr>\n",
       "  </thead>\n",
       "  <tbody>\n",
       "    <tr>\n",
       "      <th>13</th>\n",
       "      <td>BertholdForssma</td>\n",
       "      <td>125</td>\n",
       "    </tr>\n",
       "    <tr>\n",
       "      <th>4</th>\n",
       "      <td>AKaszon</td>\n",
       "      <td>16</td>\n",
       "    </tr>\n",
       "    <tr>\n",
       "      <th>153</th>\n",
       "      <td>leonardwuest</td>\n",
       "      <td>12</td>\n",
       "    </tr>\n",
       "    <tr>\n",
       "      <th>18</th>\n",
       "      <td>ChrisKarlKnecht</td>\n",
       "      <td>11</td>\n",
       "    </tr>\n",
       "    <tr>\n",
       "      <th>10</th>\n",
       "      <td>Bastian81165171</td>\n",
       "      <td>10</td>\n",
       "    </tr>\n",
       "    <tr>\n",
       "      <th>106</th>\n",
       "      <td>WAZ_Redaktion</td>\n",
       "      <td>9</td>\n",
       "    </tr>\n",
       "    <tr>\n",
       "      <th>43</th>\n",
       "      <td>FunkeBerlin</td>\n",
       "      <td>9</td>\n",
       "    </tr>\n",
       "    <tr>\n",
       "      <th>186</th>\n",
       "      <td>wissenschaft_de</td>\n",
       "      <td>9</td>\n",
       "    </tr>\n",
       "    <tr>\n",
       "      <th>102</th>\n",
       "      <td>VIEmediaNEWS</td>\n",
       "      <td>9</td>\n",
       "    </tr>\n",
       "    <tr>\n",
       "      <th>100</th>\n",
       "      <td>UFOMeldestelle</td>\n",
       "      <td>8</td>\n",
       "    </tr>\n",
       "  </tbody>\n",
       "</table>\n",
       "</div>"
      ],
      "text/plain": [
       "    tweet_creator_atName  Anzahl_Vorkommen\n",
       "13       BertholdForssma               125\n",
       "4                AKaszon                16\n",
       "153         leonardwuest                12\n",
       "18       ChrisKarlKnecht                11\n",
       "10       Bastian81165171                10\n",
       "106        WAZ_Redaktion                 9\n",
       "43           FunkeBerlin                 9\n",
       "186      wissenschaft_de                 9\n",
       "102         VIEmediaNEWS                 9\n",
       "100       UFOMeldestelle                 8"
      ]
     },
     "execution_count": 28,
     "metadata": {},
     "output_type": "execute_result"
    }
   ],
   "source": [
    "# Gruppieren nach der Spalte 'tweet_creator_atName' und Zählen der Vorkommen\n",
    "gruppierte_duplikate = exakte_duplikate.groupby('tweet_creator_atName').size().reset_index(name='Anzahl_Vorkommen').sort_values(by='Anzahl_Vorkommen', ascending=False)\n",
    "\n",
    "gruppierte_duplikate.head(10)"
   ]
  },
  {
   "cell_type": "code",
   "execution_count": 29,
   "id": "b0d35eb9-8f1b-4fb8-a2de-aaa4e676d2f2",
   "metadata": {},
   "outputs": [
    {
     "data": {
      "text/plain": [
       "(25714, 10)"
      ]
     },
     "execution_count": 29,
     "metadata": {},
     "output_type": "execute_result"
    }
   ],
   "source": [
    "# Accounts, die mind. 10 doppelte Tweets verfasst haben\n",
    "account_list = ['BertholdForssma', 'AKaszon', 'Lupus071', 'ChrisKarlKnecht', 'leonardwuest', 'Bastian81165171']\n",
    "\n",
    "# Erstelle eine Maske für Zeilen, die von den Accounts in der Liste erstellt wurden\n",
    "mask_accounts = df_annotiert_text['tweet_creator_atName'].isin(account_list)\n",
    "\n",
    "# Erstelle eine Maske für doppelte Tweets\n",
    "mask_doppelte_tweets = df_annotiert_text.duplicated(subset=['tweet_text'], keep=False)\n",
    "\n",
    "# Kombiniere die beiden Masken, um die Zeilen zu identifizieren, die von den Accounts in der Liste erstellt wurden und doppelte Tweets sind\n",
    "mask_zu_entfernende_doppelte_tweets = mask_accounts & mask_doppelte_tweets\n",
    "\n",
    "# Entferne die identifizierten Zeilen aus dem DataFrame\n",
    "df_annotiert_text= df_annotiert_text[~mask_zu_entfernende_doppelte_tweets]\n",
    "df_annotiert_text.shape"
   ]
  },
  {
   "cell_type": "markdown",
   "id": "724fbe65-8a79-4314-b7b8-6674138dcdd7",
   "metadata": {
    "tags": []
   },
   "source": [
    "## Teildatensätze erstellen"
   ]
  },
  {
   "cell_type": "code",
   "execution_count": 30,
   "id": "c1e1b7db-a053-4131-a0cf-67db4c6d0334",
   "metadata": {},
   "outputs": [
    {
     "data": {
      "text/plain": [
       "(1699, 6)"
      ]
     },
     "execution_count": 30,
     "metadata": {},
     "output_type": "execute_result"
    }
   ],
   "source": [
    "# Accounts von Wissenschaftler:innen und wissenschaftsnahen Personen, Forschungsinstitutionen und Universitäten/Hochschulen\n",
    "accounts_wissenschaft = accounts_annotiert.loc[\n",
    "    (accounts_annotiert['author_category'] == 'Wissenschaftler*in') |\n",
    "    (accounts_annotiert['author_category'] == 'wissenschaftsnah') |\n",
    "    (accounts_annotiert['author_category'] == 'Wissenschaftsnahe Politiker*in') | \n",
    "    (accounts_annotiert['author_category'] == 'Wissenschaftler*in und Politiker*in') |\n",
    "    (accounts_annotiert['institution'] == 'Forschungsinstitution') |\n",
    "     (accounts_annotiert['institution'] == 'Universität/Hochschule')\n",
    "]\n",
    "accounts_wissenschaft.shape"
   ]
  },
  {
   "cell_type": "code",
   "execution_count": 31,
   "id": "6c96ead6-dad2-461e-b7a8-ec00ca9b06ab",
   "metadata": {},
   "outputs": [
    {
     "data": {
      "text/plain": [
       "(9119, 6)"
      ]
     },
     "execution_count": 31,
     "metadata": {},
     "output_type": "execute_result"
    }
   ],
   "source": [
    "accounts_nichtwissenschaft = accounts_annotiert[~accounts_annotiert.index.isin(accounts_wissenschaft.index)]\n",
    "accounts_nichtwissenschaft.shape"
   ]
  },
  {
   "cell_type": "code",
   "execution_count": 32,
   "id": "d67cbff9-3c03-4299-a747-3cc982f0df6c",
   "metadata": {},
   "outputs": [
    {
     "data": {
      "text/plain": [
       "(3749, 10)"
      ]
     },
     "execution_count": 32,
     "metadata": {},
     "output_type": "execute_result"
    }
   ],
   "source": [
    "tweets_wissenschaft = df_annotiert_text[df_annotiert_text['tweet_creator_atName'].isin(accounts_wissenschaft['tweet_creator_atName'])]\n",
    "tweets_wissenschaft.shape"
   ]
  },
  {
   "cell_type": "code",
   "execution_count": 33,
   "id": "c5da415b-317e-4fab-9ebe-f0e01aa690b9",
   "metadata": {},
   "outputs": [
    {
     "data": {
      "text/plain": [
       "(21965, 10)"
      ]
     },
     "execution_count": 33,
     "metadata": {},
     "output_type": "execute_result"
    }
   ],
   "source": [
    "tweets_nichtwissenschaft = df_annotiert_text[~df_annotiert_text.index.isin(tweets_wissenschaft.index)]\n",
    "tweets_nichtwissenschaft.shape"
   ]
  },
  {
   "cell_type": "code",
   "execution_count": 34,
   "id": "6e29d443-48ba-47c6-b3b5-fdc7562a8792",
   "metadata": {},
   "outputs": [
    {
     "data": {
      "text/plain": [
       "(569, 6)"
      ]
     },
     "execution_count": 34,
     "metadata": {},
     "output_type": "execute_result"
    }
   ],
   "source": [
    "accounts_wissenschaftlerinnen = accounts_annotiert.loc[\n",
    "    ((accounts_annotiert['author_category'] == 'Wissenschaftler*in') |\n",
    "    (accounts_annotiert['author_category'] == 'wissenschaftsnah') |\n",
    "    (accounts_annotiert['author_category'] == 'Wissenschaftsnahe Politiker*in') | \n",
    "    (accounts_annotiert['author_category'] == 'Wissenschaftler*in und Politiker*in')) &\n",
    "    (accounts_annotiert['gender'] == 'weiblich')]\n",
    "\n",
    "accounts_wissenschaftlerinnen.shape"
   ]
  },
  {
   "cell_type": "code",
   "execution_count": 35,
   "id": "78f25bca-3f9a-4a3c-8998-beb0493829d1",
   "metadata": {},
   "outputs": [
    {
     "data": {
      "text/plain": [
       "(1201, 10)"
      ]
     },
     "execution_count": 35,
     "metadata": {},
     "output_type": "execute_result"
    }
   ],
   "source": [
    "tweets_wissenschaftlerinnen = df_annotiert_text[df_annotiert_text['tweet_creator_atName'].isin(accounts_wissenschaftlerinnen['tweet_creator_atName'])]\n",
    "tweets_wissenschaftlerinnen.shape"
   ]
  },
  {
   "cell_type": "code",
   "execution_count": 36,
   "id": "24a753fa-7c61-4f09-b72b-71c5dac1a8a2",
   "metadata": {
    "tags": []
   },
   "outputs": [
    {
     "data": {
      "text/plain": [
       "(796, 6)"
      ]
     },
     "execution_count": 36,
     "metadata": {},
     "output_type": "execute_result"
    }
   ],
   "source": [
    "accounts_wissenschaftler = accounts_annotiert.loc[\n",
    "    ((accounts_annotiert['author_category'] == 'Wissenschaftler*in') |\n",
    "    (accounts_annotiert['author_category'] == 'wissenschaftsnah') |\n",
    "    (accounts_annotiert['author_category'] == 'Wissenschaftsnahe Politiker*in') | \n",
    "    (accounts_annotiert['author_category'] == 'Wissenschaftler*in und Politiker*in')) &\n",
    "    (accounts_annotiert['gender'] == 'männlich')]\n",
    "\n",
    "accounts_wissenschaftler.shape"
   ]
  },
  {
   "cell_type": "code",
   "execution_count": 37,
   "id": "bdeb05e4-d21d-4a52-b649-acc2f03473b5",
   "metadata": {},
   "outputs": [
    {
     "data": {
      "text/plain": [
       "(1761, 10)"
      ]
     },
     "execution_count": 37,
     "metadata": {},
     "output_type": "execute_result"
    }
   ],
   "source": [
    "tweets_wissenschaftler = df_annotiert_text[df_annotiert_text['tweet_creator_atName'].isin(accounts_wissenschaftler['tweet_creator_atName'])]\n",
    "tweets_wissenschaftler.shape"
   ]
  },
  {
   "cell_type": "code",
   "execution_count": 38,
   "id": "d3311208-45de-4b19-8f48-ced09a1c2d10",
   "metadata": {},
   "outputs": [
    {
     "data": {
      "text/plain": [
       "(12, 6)"
      ]
     },
     "execution_count": 38,
     "metadata": {},
     "output_type": "execute_result"
    }
   ],
   "source": [
    "accounts_wissenschaftler_nonbinär = accounts_annotiert.loc[\n",
    "    ((accounts_annotiert['author_category'] == 'Wissenschaftler*in') |\n",
    "    (accounts_annotiert['author_category'] == 'wissenschaftsnah') |\n",
    "    (accounts_annotiert['author_category'] == 'Wissenschaftsnahe Politiker*in') | \n",
    "    (accounts_annotiert['author_category'] == 'Wissenschaftler*in und Politiker*in')) &\n",
    "    (accounts_annotiert['gender'] == 'non-binär')]\n",
    "\n",
    "accounts_wissenschaftler_nonbinär.shape"
   ]
  },
  {
   "cell_type": "code",
   "execution_count": 39,
   "id": "475bbcc8-ebc9-43fc-b8b2-feb445975ce1",
   "metadata": {},
   "outputs": [
    {
     "data": {
      "text/plain": [
       "(20, 10)"
      ]
     },
     "execution_count": 39,
     "metadata": {},
     "output_type": "execute_result"
    }
   ],
   "source": [
    "tweets_wissenschaftler_nonbinär = df_annotiert_text[df_annotiert_text['tweet_creator_atName'].isin(accounts_wissenschaftler_nonbinär['tweet_creator_atName'])]\n",
    "tweets_wissenschaftler_nonbinär.shape"
   ]
  },
  {
   "cell_type": "markdown",
   "id": "ade523cc-7779-485e-af96-5231e82cfd7c",
   "metadata": {},
   "source": [
    "#### Exportieren der Teildatensätze"
   ]
  },
  {
   "cell_type": "code",
   "execution_count": 40,
   "id": "c3a8dac1-cc13-4190-84b0-f372649afa71",
   "metadata": {},
   "outputs": [],
   "source": [
    "accounts_wissenschaft.to_excel('accounts_wissenschaft.xlsx', index=False)\n",
    "tweets_wissenschaft.to_excel('tweets_wissenschaft.xlsx', index=False)"
   ]
  },
  {
   "cell_type": "code",
   "execution_count": 41,
   "id": "5764f6bf-547e-4cd4-bb86-11afc964d8fd",
   "metadata": {},
   "outputs": [],
   "source": [
    "accounts_nichtwissenschaft.to_excel('accounts_nichtwissenschaft.xlsx', index=False)\n",
    "tweets_nichtwissenschaft.to_excel('tweets_nichtwissenschaft.xlsx', index=False)"
   ]
  },
  {
   "cell_type": "code",
   "execution_count": 42,
   "id": "18e13859-a022-4ce8-b634-21257aea4acb",
   "metadata": {},
   "outputs": [],
   "source": [
    "accounts_wissenschaftler.to_excel('accounts_wissenschaftler.xlsx', index=False)\n",
    "tweets_wissenschaftler.to_excel('tweets_wissenschaftler.xlsx', index=False)"
   ]
  },
  {
   "cell_type": "code",
   "execution_count": 43,
   "id": "2bc8fa24-b4a3-4695-aca8-391ee7223c4c",
   "metadata": {},
   "outputs": [],
   "source": [
    "accounts_wissenschaftlerinnen.to_excel('accounts_wissenschaftlerinnen.xlsx', index=False)\n",
    "tweets_wissenschaftlerinnen.to_excel('tweets_wissenschaftlerinnen.xlsx', index=False)"
   ]
  },
  {
   "cell_type": "code",
   "execution_count": 44,
   "id": "9daaa1e1-f706-4d45-afdf-bc808273f5bc",
   "metadata": {},
   "outputs": [],
   "source": [
    "accounts_annotiert.to_excel('accounts_annotiert.xlsx', index=False)\n",
    "df_annotiert_text.to_excel('tweets_annotiert.xlsx', index=False)"
   ]
  }
 ],
 "metadata": {
  "kernelspec": {
   "display_name": "Python 3 (ipykernel)",
   "language": "python",
   "name": "python3"
  },
  "language_info": {
   "codemirror_mode": {
    "name": "ipython",
    "version": 3
   },
   "file_extension": ".py",
   "mimetype": "text/x-python",
   "name": "python",
   "nbconvert_exporter": "python",
   "pygments_lexer": "ipython3",
   "version": "3.8.19"
  }
 },
 "nbformat": 4,
 "nbformat_minor": 5
}
