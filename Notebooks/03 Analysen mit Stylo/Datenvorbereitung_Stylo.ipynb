{
 "cells": [
  {
   "cell_type": "markdown",
   "id": "1334a724-840c-42f7-9953-43b8c438cd3a",
   "metadata": {},
   "source": [
    "# Vorbereitung der Daten für Stylo Analyse"
   ]
  },
  {
   "cell_type": "markdown",
   "id": "d5128b6a-7bef-4472-a7cc-d460bff7c828",
   "metadata": {},
   "source": [
    "Datensätze einlesen"
   ]
  },
  {
   "cell_type": "code",
   "execution_count": 4,
   "id": "dce53c2e-9455-4459-bdd9-e400cd62f0c1",
   "metadata": {},
   "outputs": [],
   "source": [
    "import pandas as pd\n",
    "tweets_wissenschaft = pd.read_excel(\"./data/tweets_wissenschaft.xlsx\")\n",
    "accounts_wissenschaft = pd.read_excel('./data/accounts_wissenschaft.xlsx')\n",
    "tweets_nichtwissenschaft = pd.read_excel(\"./data/tweets_nichtwissenschaft.xlsx\")\n",
    "accounts_nichtwissenschaft = pd.read_excel('./data/accounts_nichtwissenschaft.xlsx')\n",
    "tweets_wissenschaftler = pd.read_excel(\"./data/tweets_wissenschaftler.xlsx\")\n",
    "accounts_wissenschaftler = pd.read_excel('./data/accounts_wissenschaftler.xlsx')\n",
    "tweets_wissenschaftlerinnen = pd.read_excel(\"./data/tweets_wissenschaftlerinnen.xlsx\")\n",
    "accounts_wissenschaftlerinnen = pd.read_excel('./data/accounts_wissenschaftlerinnen.xlsx')"
   ]
  },
  {
   "cell_type": "markdown",
   "id": "d8c11645-d8fc-4535-b741-37013c6fcb39",
   "metadata": {},
   "source": [
    "Als txt-Dateien speichern"
   ]
  },
  {
   "cell_type": "code",
   "execution_count": 5,
   "id": "fe1e5d6d-c4c5-499e-a23c-9fccafcc7ffb",
   "metadata": {},
   "outputs": [],
   "source": [
    "# Bios von Wissenschaft-Accounts\n",
    "filtered_data = accounts_wissenschaft[accounts_wissenschaft['tweet_creator_bio'] != '-998']\n",
    "filtered_data['tweet_creator_bio'].to_csv('bios_wissenschaft.txt', header=False, index=False, sep='\\t', mode='a')"
   ]
  },
  {
   "cell_type": "code",
   "execution_count": 7,
   "id": "9734d1db-6d6a-4b11-88a7-2c799e7f651f",
   "metadata": {},
   "outputs": [],
   "source": [
    "# Bios von Nicht-Wissenschaft-Accounts\n",
    "filtered_data = accounts_nichtwissenschaft[accounts_nichtwissenschaft['tweet_creator_bio'] != '-998']\n",
    "filtered_data['tweet_creator_bio'].to_csv('bios_nichtwissenschaft.txt', header=False, index=False, sep='\\t', mode='a')"
   ]
  },
  {
   "cell_type": "code",
   "execution_count": 8,
   "id": "2abfa9d4-22c5-493f-b647-0af8ac24814e",
   "metadata": {},
   "outputs": [],
   "source": [
    "# Bios von Wissenschaftlerinnen\n",
    "filtered_data = accounts_wissenschaftlerinnen[accounts_wissenschaftlerinnen['tweet_creator_bio'] != '-998']\n",
    "filtered_data['tweet_creator_bio'].to_csv('bios_wissenschaftlerinnen.txt', header=False, index=False, sep='\\t', mode='a')"
   ]
  },
  {
   "cell_type": "code",
   "execution_count": 9,
   "id": "93c29299-cb2f-45e3-bded-3809ef34394d",
   "metadata": {},
   "outputs": [],
   "source": [
    "# Bios von Wissenschaftlern\n",
    "filtered_data = accounts_wissenschaftler[accounts_wissenschaftler['tweet_creator_bio'] != '-998']\n",
    "filtered_data['tweet_creator_bio'].to_csv('bios_wissenschaftler.txt', header=False, index=False, sep='\\t', mode='a')"
   ]
  },
  {
   "cell_type": "code",
   "execution_count": 10,
   "id": "1da3810d-7b75-422a-a22f-9293ae95636f",
   "metadata": {},
   "outputs": [],
   "source": [
    "# Tweets von Wissenschaft-Accounts\n",
    "columns = ['tweet_text', 'zitat_text', 'retweet_text_retweeted_tweet']\n",
    "\n",
    "for column in columns:\n",
    "    filtered_data = tweets_wissenschaft[tweets_wissenschaft[column] != '-998']\n",
    "    filtered_data[column].to_csv(f'tweets_wissenschaft_{column}.txt', header=False, index=False, sep='\\t', mode='a')"
   ]
  },
  {
   "cell_type": "code",
   "execution_count": 11,
   "id": "b103c864-07b2-4569-a1f1-1c9e6ec60ec7",
   "metadata": {},
   "outputs": [],
   "source": [
    "# Tweets von Nicht-Wissenschaft-Accounts\n",
    "columns = ['tweet_text', 'zitat_text', 'retweet_text_retweeted_tweet']\n",
    "\n",
    "for column in columns:\n",
    "    filtered_data = tweets_nichtwissenschaft[tweets_nichtwissenschaft[column] != '-998']\n",
    "    filtered_data[column].to_csv(f'tweets_nichtwissenschaft_{column}.txt', header=False, index=False, sep='\\t', mode='a')"
   ]
  },
  {
   "cell_type": "code",
   "execution_count": 12,
   "id": "251e11ef-90d0-4b8d-96c8-eb168dd9c4f9",
   "metadata": {},
   "outputs": [],
   "source": [
    "# Tweets von Wissenschaftlerinnen\n",
    "columns = ['tweet_text', 'zitat_text', 'retweet_text_retweeted_tweet']\n",
    "\n",
    "for column in columns:\n",
    "    filtered_data = tweets_wissenschaftlerinnen[tweets_wissenschaftlerinnen[column] != '-998']\n",
    "    filtered_data[column].to_csv(f'tweets_wissenschaftlerinnen_{column}.txt', header=False, index=False, sep='\\t', mode='a')"
   ]
  },
  {
   "cell_type": "code",
   "execution_count": 13,
   "id": "77220015-05d3-4d2b-8a5b-5a6ac490978f",
   "metadata": {},
   "outputs": [],
   "source": [
    "# Tweets von Wissenschaftlern\n",
    "columns = ['tweet_text', 'zitat_text', 'retweet_text_retweeted_tweet']\n",
    "\n",
    "for column in columns:\n",
    "    filtered_data = tweets_wissenschaftler[tweets_wissenschaftler[column] != '-998']\n",
    "    filtered_data[column].to_csv(f'tweets_wissenschaftler_{column}.txt', header=False, index=False, sep='\\t', mode='a')"
   ]
  }
 ],
 "metadata": {
  "kernelspec": {
   "display_name": "Python 3 (ipykernel)",
   "language": "python",
   "name": "python3"
  },
  "language_info": {
   "codemirror_mode": {
    "name": "ipython",
    "version": 3
   },
   "file_extension": ".py",
   "mimetype": "text/x-python",
   "name": "python",
   "nbconvert_exporter": "python",
   "pygments_lexer": "ipython3",
   "version": "3.8.18"
  }
 },
 "nbformat": 4,
 "nbformat_minor": 5
}
